{
 "cells": [
  {
   "cell_type": "code",
   "execution_count": 6,
   "metadata": {},
   "outputs": [],
   "source": [
    "import pandas as pd\n",
    "import numpy as np\n",
    "\n",
    "import rows"
   ]
  },
  {
   "cell_type": "code",
   "execution_count": 7,
   "metadata": {},
   "outputs": [],
   "source": [
    "from tabula import read_pdf"
   ]
  },
  {
   "cell_type": "markdown",
   "metadata": {},
   "source": [
    "### LDO 1"
   ]
  },
  {
   "cell_type": "code",
   "execution_count": 160,
   "metadata": {},
   "outputs": [],
   "source": [
    "dd = read_pdf('files/ldo_full.pdf', pages='42-98' ,multiple_tables=True, encoding='utf-8', lattice=True)"
   ]
  },
  {
   "cell_type": "code",
   "execution_count": 161,
   "metadata": {},
   "outputs": [
    {
     "data": {
      "text/plain": [
       "111"
      ]
     },
     "execution_count": 161,
     "metadata": {},
     "output_type": "execute_result"
    }
   ],
   "source": [
    "len(dd)"
   ]
  },
  {
   "cell_type": "code",
   "execution_count": 162,
   "metadata": {},
   "outputs": [],
   "source": [
    "df = pd.DataFrame()\n",
    "\n",
    "for i in range(len(dd)):\n",
    "    df = pd.concat([df,dd[i]], axis=0)\n",
    "    \n",
    "df = df.reset_index(drop=True)"
   ]
  },
  {
   "cell_type": "code",
   "execution_count": 177,
   "metadata": {},
   "outputs": [],
   "source": [
    "mask = df[0].str.contains('PROGRAMA:').replace(np.nan,False)\n",
    "\n",
    "df_programas = df[mask]\n",
    "\n",
    "\n",
    "mask = df[4].str.contains('VALOR').replace(np.nan,False)\n",
    "\n",
    "df_valor = df[mask]\n",
    "\n"
   ]
  },
  {
   "cell_type": "code",
   "execution_count": 179,
   "metadata": {},
   "outputs": [
    {
     "data": {
      "text/plain": [
       "(114, 6)"
      ]
     },
     "metadata": {},
     "output_type": "display_data"
    }
   ],
   "source": [
    "display(df_programas.shape)\n",
    "# display(df_valor.shape)"
   ]
  },
  {
   "cell_type": "code",
   "execution_count": 180,
   "metadata": {},
   "outputs": [],
   "source": [
    "indexes_programas = list(df_programas.index)"
   ]
  },
  {
   "cell_type": "code",
   "execution_count": 209,
   "metadata": {},
   "outputs": [
    {
     "name": "stderr",
     "output_type": "stream",
     "text": [
      "/home/m/python/anaconda3/lib/python3.7/site-packages/ipykernel_launcher.py:12: SettingWithCopyWarning: \n",
      "A value is trying to be set on a copy of a slice from a DataFrame.\n",
      "Try using .loc[row_indexer,col_indexer] = value instead\n",
      "\n",
      "See the caveats in the documentation: http://pandas.pydata.org/pandas-docs/stable/indexing.html#indexing-view-versus-copy\n",
      "  if sys.path[0] == '':\n",
      "/home/m/python/anaconda3/lib/python3.7/site-packages/ipykernel_launcher.py:8: SettingWithCopyWarning: \n",
      "A value is trying to be set on a copy of a slice from a DataFrame.\n",
      "Try using .loc[row_indexer,col_indexer] = value instead\n",
      "\n",
      "See the caveats in the documentation: http://pandas.pydata.org/pandas-docs/stable/indexing.html#indexing-view-versus-copy\n",
      "  \n"
     ]
    }
   ],
   "source": [
    "df_final = pd.DataFrame()\n",
    "\n",
    "for i in range(len(indexes)):\n",
    "#     print(indexes[i])\n",
    "    \n",
    "    if i == len(indexes)-1:\n",
    "        df_f = df.loc[indexes[i]+4:]\n",
    "        df_f[5] = df_programas.loc[indexes[i]][0]\n",
    "    else:\n",
    "#         print(i,'-',indexes[i], '- ', df_programas.loc[indexes[i]][0])\n",
    "        df_f = df.loc[indexes[i]+4:indexes[i+1]-4]\n",
    "        df_f[5] = df_programas.loc[indexes[i]][0]\n",
    "\n",
    "    \n",
    "    df_final = pd.concat([df_final,df_f], axis=0)\n",
    "\n",
    "\n",
    "mask = (df_final[4].notnull()) & (df_final[4] != 'VALOR')\n",
    "\n",
    "\n",
    "df_final = df_final[mask]\n",
    "df_final[4] = df_final[4].str.replace('.','').astype(float)\n",
    "\n",
    "rename = {\n",
    "    0:'acao',\n",
    "    1:'indicador de produto (unidade de medida)',\n",
    "    2:'meta',\n",
    "    3:'orgao',\n",
    "    4:'valor',\n",
    "    5:'programa'\n",
    "}\n",
    "df_final = df_final.rename(columns=rename)"
   ]
  },
  {
   "cell_type": "code",
   "execution_count": 211,
   "metadata": {},
   "outputs": [
    {
     "data": {
      "text/html": [
       "<div>\n",
       "<style scoped>\n",
       "    .dataframe tbody tr th:only-of-type {\n",
       "        vertical-align: middle;\n",
       "    }\n",
       "\n",
       "    .dataframe tbody tr th {\n",
       "        vertical-align: top;\n",
       "    }\n",
       "\n",
       "    .dataframe thead th {\n",
       "        text-align: right;\n",
       "    }\n",
       "</style>\n",
       "<table border=\"1\" class=\"dataframe\">\n",
       "  <thead>\n",
       "    <tr style=\"text-align: right;\">\n",
       "      <th></th>\n",
       "      <th>programa</th>\n",
       "      <th>acao</th>\n",
       "      <th>indicador de produto (unidade de medida)</th>\n",
       "      <th>meta</th>\n",
       "      <th>orgao</th>\n",
       "      <th>valor</th>\n",
       "    </tr>\n",
       "  </thead>\n",
       "  <tbody>\n",
       "    <tr>\n",
       "      <th>9</th>\n",
       "      <td>PROGRAMA: 0000  -  ENCARGOS GERAIS</td>\n",
       "      <td>4812 - PAGAMENTO DE AÇÕES INDENIZATÓRIAS DE PE...</td>\n",
       "      <td>NaN</td>\n",
       "      <td>NaN</td>\n",
       "      <td>40000 - PROCURADORIA\\rGERAL</td>\n",
       "      <td>800000000.0</td>\n",
       "    </tr>\n",
       "    <tr>\n",
       "      <th>10</th>\n",
       "      <td>PROGRAMA: 0000  -  ENCARGOS GERAIS</td>\n",
       "      <td>5027 - PAGAMENTO DE BENEFÍCIOS ASSISTENCIAIS</td>\n",
       "      <td>NaN</td>\n",
       "      <td>NaN</td>\n",
       "      <td>21000 - ADM. GERAL DO\\rESTADO</td>\n",
       "      <td>40587539.0</td>\n",
       "    </tr>\n",
       "  </tbody>\n",
       "</table>\n",
       "</div>"
      ],
      "text/plain": [
       "                              programa  \\\n",
       "9   PROGRAMA: 0000  -  ENCARGOS GERAIS   \n",
       "10  PROGRAMA: 0000  -  ENCARGOS GERAIS   \n",
       "\n",
       "                                                 acao  \\\n",
       "9   4812 - PAGAMENTO DE AÇÕES INDENIZATÓRIAS DE PE...   \n",
       "10       5027 - PAGAMENTO DE BENEFÍCIOS ASSISTENCIAIS   \n",
       "\n",
       "   indicador de produto (unidade de medida) meta  \\\n",
       "9                                       NaN  NaN   \n",
       "10                                      NaN  NaN   \n",
       "\n",
       "                            orgao        valor  \n",
       "9     40000 - PROCURADORIA\\rGERAL  800000000.0  \n",
       "10  21000 - ADM. GERAL DO\\rESTADO   40587539.0  "
      ]
     },
     "execution_count": 211,
     "metadata": {},
     "output_type": "execute_result"
    }
   ],
   "source": [
    "cols = ['programa', 'acao', 'indicador de produto (unidade de medida)' ,'meta','orgao','valor']\n",
    "df_final = df_final[cols]\n",
    "df_final.head(2)"
   ]
  },
  {
   "cell_type": "code",
   "execution_count": 236,
   "metadata": {},
   "outputs": [],
   "source": [
    "# df_final.groupby(by='orgao').sum().sort_values(by='valor', ascending=False)/df_final['valor'].sum()"
   ]
  },
  {
   "cell_type": "code",
   "execution_count": 237,
   "metadata": {},
   "outputs": [],
   "source": [
    "# df_final.to_excel('ldo_1.xlsx', encoding='utf-8', index=False)"
   ]
  },
  {
   "cell_type": "code",
   "execution_count": null,
   "metadata": {},
   "outputs": [],
   "source": []
  },
  {
   "cell_type": "code",
   "execution_count": null,
   "metadata": {},
   "outputs": [],
   "source": []
  },
  {
   "cell_type": "code",
   "execution_count": null,
   "metadata": {},
   "outputs": [],
   "source": []
  },
  {
   "cell_type": "markdown",
   "metadata": {},
   "source": [
    "### LDO 2"
   ]
  },
  {
   "cell_type": "code",
   "execution_count": 238,
   "metadata": {},
   "outputs": [],
   "source": [
    "dd = read_pdf('files/ldo_full.pdf', pages='129-167' ,multiple_tables=True, encoding='utf-8', lattice=True)"
   ]
  },
  {
   "cell_type": "code",
   "execution_count": 239,
   "metadata": {},
   "outputs": [
    {
     "data": {
      "text/plain": [
       "63"
      ]
     },
     "execution_count": 239,
     "metadata": {},
     "output_type": "execute_result"
    }
   ],
   "source": [
    "len(dd)"
   ]
  },
  {
   "cell_type": "code",
   "execution_count": 240,
   "metadata": {},
   "outputs": [],
   "source": [
    "df = pd.DataFrame()\n",
    "\n",
    "for i in range(len(dd)):\n",
    "    df = pd.concat([df,dd[i]], axis=0)\n",
    "    \n",
    "df = df.reset_index(drop=True)"
   ]
  },
  {
   "cell_type": "code",
   "execution_count": 291,
   "metadata": {},
   "outputs": [],
   "source": [
    "mask = df[0].str.contains('PROGRAMA:').replace(np.nan,False)\n",
    "\n",
    "df_programas = df[mask]\n",
    "\n",
    "\n",
    "mask = df[4].str.contains('VALOR').replace(np.nan,False)\n",
    "\n",
    "df_valor = df[mask]\n",
    "\n",
    "indexes = list(df_programas.index)"
   ]
  },
  {
   "cell_type": "code",
   "execution_count": 305,
   "metadata": {},
   "outputs": [
    {
     "name": "stderr",
     "output_type": "stream",
     "text": [
      "/home/m/python/anaconda3/lib/python3.7/site-packages/ipykernel_launcher.py:12: SettingWithCopyWarning: \n",
      "A value is trying to be set on a copy of a slice from a DataFrame.\n",
      "Try using .loc[row_indexer,col_indexer] = value instead\n",
      "\n",
      "See the caveats in the documentation: http://pandas.pydata.org/pandas-docs/stable/indexing.html#indexing-view-versus-copy\n",
      "  if sys.path[0] == '':\n",
      "/home/m/python/anaconda3/lib/python3.7/site-packages/ipykernel_launcher.py:8: SettingWithCopyWarning: \n",
      "A value is trying to be set on a copy of a slice from a DataFrame.\n",
      "Try using .loc[row_indexer,col_indexer] = value instead\n",
      "\n",
      "See the caveats in the documentation: http://pandas.pydata.org/pandas-docs/stable/indexing.html#indexing-view-versus-copy\n",
      "  \n"
     ]
    }
   ],
   "source": [
    "df_final = pd.DataFrame()\n",
    "\n",
    "for i in range(len(indexes)):\n",
    "#     print(indexes[i])\n",
    "    \n",
    "    if i == len(indexes)-1:\n",
    "        df_f = df.loc[indexes[i]+2:]\n",
    "        df_f[7] = df_programas.loc[indexes[i]][0]\n",
    "    else:\n",
    "#         print(i,'-',indexes[i], '- ', df_programas.loc[indexes[i]][0])\n",
    "        df_f = df.loc[indexes[i]+2:indexes[i+1]-3]\n",
    "        df_f[7] = df_programas.loc[indexes[i]][0]\n",
    "\n",
    "    \n",
    "    df_final = pd.concat([df_final,df_f], axis=0)\n",
    "\n",
    "\n"
   ]
  },
  {
   "cell_type": "code",
   "execution_count": 531,
   "metadata": {},
   "outputs": [],
   "source": [
    "df_f = df_final.copy()\n",
    "\n",
    "mask =(df_f[4] != 'DESPESA') & (df_f[5].notnull()) \n",
    "\n",
    "df_f = df_f[mask]\n",
    "df_f[4] = df_f[4].fillna('1111111111')\n",
    "\n",
    "mask =df_f[4].str.contains('-')\n",
    "df_f[5] = np.where(mask,df_f[4],df_f[5])\n",
    "df_f[4] = np.where(mask,np.nan,df_f[4])\n",
    "\n",
    "df_f[4] = df_f[4].fillna('1111111111')\n",
    "\n",
    "\n",
    "\n",
    "\n",
    "# df_f = df_f[mask]\n",
    "\n",
    "df_f[4] = df_f[4].str.replace('.','')\n",
    "\n",
    "df_f[0] = df_f[7]\n",
    "df_f = df_f.drop(columns=7)\n",
    "\n",
    "rename = {\n",
    "    0:'programa',\n",
    "    1:'produto',\n",
    "    2:'indicador de produto (unidade de medida)',\n",
    "    3:'meta',\n",
    "    4:'despesa',\n",
    "    5:'acao',\n",
    "    6:'orgao'\n",
    "}\n",
    "df_f = df_f.rename(columns=rename)\n",
    "\n",
    "for col in df_f.columns:\n",
    "    \n",
    "    if col!='despesa':\n",
    "        df_f[col] = df_f[col].str.replace('\\r','')\n",
    "        "
   ]
  },
  {
   "cell_type": "code",
   "execution_count": 532,
   "metadata": {},
   "outputs": [],
   "source": [
    "count=1\n",
    "while count!=0:\n",
    "    \n",
    "    df_f['despesa_shift'] = df_f['despesa'].shift(1)\n",
    "    df_f['produto_shift'] = df_f['produto'].shift(1)\n",
    "    df_f['indicador de produto (unidade de medida)_shift'] = df_f['indicador de produto (unidade de medida)'].shift(1)\n",
    "    df_f['meta_shift'] = df_f['meta'].shift(1)\n",
    "    df_f['orgao_shift'] = df_f['orgao'].shift(1)\n",
    "\n",
    "    \n",
    "    \n",
    "    \n",
    "    mask = df_f['despesa']=='1111111111'\n",
    "    count = len(df_f[mask])\n",
    "    df_f['despesa'] = np.where(mask,df_f['despesa_shift'],df_f['despesa'])\n",
    "    df_f['produto'] = np.where(mask,df_f['produto_shift'],df_f['produto'])\n",
    "    df_f['indicador de produto (unidade de medida)'] = np.where(mask,df_f['indicador de produto (unidade de medida)_shift'],df_f['indicador de produto (unidade de medida)'])\n",
    "    df_f['meta'] = np.where(mask,df_f['meta_shift'],df_f['meta'])\n",
    "    df_f['orgao'] = np.where(mask,df_f['orgao_shift'],df_f['orgao'])\n",
    "\n",
    "\n",
    "    \n",
    "df_f = df_f[df_f.columns[:7]]\n",
    "\n",
    "df_f['despesa_cat'] = df_f['despesa']\n",
    "df_f['despesa'] = df_f['despesa'].astype(float)\n",
    "\n"
   ]
  },
  {
   "cell_type": "code",
   "execution_count": 533,
   "metadata": {},
   "outputs": [],
   "source": [
    "df_ff = df_f.copy()\n",
    "\n",
    "cols = ['programa','produto','indicador de produto (unidade de medida)', 'meta','despesa_cat']\n",
    "\n",
    "df_ff['key']=df_ff['programa']+'_'+df_ff['produto'].fillna('1111111111')+'_'+df_ff['indicador de produto (unidade de medida)'].fillna('1111111111') + '_' + df_ff['meta'].fillna('1111111111')+'_'+df_ff['despesa_cat'].fillna('1111111111')\n",
    "\n",
    "df_ff['count'] = df_ff.groupby(by='key').cumcount()+1\n",
    "\n",
    "df_ff = pd.merge(df_ff, df_ff[['key','count']].groupby(by='key', as_index=False).last().rename(columns={'count':'factor'}), on='key', how='outer' )\n",
    "df_ff = df_ff.drop(columns=['despesa_cat','key','count'])\n",
    "df_ff['despesa'] = df_ff['despesa']/df_ff['factor']\n",
    "\n",
    "df_ff['meta'] =  df_ff['meta'].str.replace('.','').str.replace(',','.').astype(float)"
   ]
  },
  {
   "cell_type": "code",
   "execution_count": 537,
   "metadata": {},
   "outputs": [
    {
     "data": {
      "text/plain": [
       "157465738257.0"
      ]
     },
     "execution_count": 537,
     "metadata": {},
     "output_type": "execute_result"
    }
   ],
   "source": [
    "#157.465.738.257\n",
    "\n",
    "\n",
    "df_ff['despesa'].sum()"
   ]
  },
  {
   "cell_type": "code",
   "execution_count": 538,
   "metadata": {},
   "outputs": [],
   "source": [
    "# df_ff.to_excel('ldo_2.xlsx', index=False, encoding='utf-8')"
   ]
  },
  {
   "cell_type": "code",
   "execution_count": null,
   "metadata": {},
   "outputs": [],
   "source": []
  },
  {
   "cell_type": "code",
   "execution_count": null,
   "metadata": {},
   "outputs": [],
   "source": []
  },
  {
   "cell_type": "code",
   "execution_count": null,
   "metadata": {},
   "outputs": [],
   "source": []
  },
  {
   "cell_type": "code",
   "execution_count": null,
   "metadata": {},
   "outputs": [],
   "source": []
  },
  {
   "cell_type": "markdown",
   "metadata": {},
   "source": [
    "### LDO 3"
   ]
  },
  {
   "cell_type": "code",
   "execution_count": 539,
   "metadata": {},
   "outputs": [],
   "source": [
    "dd = read_pdf('files/ldo_full.pdf', pages='169-178' ,multiple_tables=True, encoding='utf-8', lattice=True)"
   ]
  },
  {
   "cell_type": "code",
   "execution_count": 540,
   "metadata": {},
   "outputs": [
    {
     "data": {
      "text/plain": [
       "11"
      ]
     },
     "execution_count": 540,
     "metadata": {},
     "output_type": "execute_result"
    }
   ],
   "source": [
    "len(dd)"
   ]
  },
  {
   "cell_type": "code",
   "execution_count": 541,
   "metadata": {},
   "outputs": [],
   "source": [
    "df = pd.DataFrame()\n",
    "\n",
    "for i in range(len(dd)):\n",
    "    df = pd.concat([df,dd[i]], axis=0)\n",
    "    \n",
    "df = df.reset_index(drop=True)"
   ]
  },
  {
   "cell_type": "code",
   "execution_count": 543,
   "metadata": {},
   "outputs": [],
   "source": [
    "mask = df[0].str.contains('PROGRAMA:').replace(np.nan,False)\n",
    "\n",
    "df_programas = df[mask]\n",
    "\n",
    "indexes = list(df_programas.index)"
   ]
  },
  {
   "cell_type": "code",
   "execution_count": 549,
   "metadata": {},
   "outputs": [],
   "source": [
    "mask = (df[0]!='CÓDIGO') & (df[0]!='QUADRO XXIII') & (df[0]!='ESPECIFICAÇÃO DA RECEITA E RESPECTIVA LEGISLAÇÃO') \n",
    "df = df[mask].rename(columns={0:'codigo',1:'discriminacao',2:'legeislacao especifica',3:'data'})"
   ]
  },
  {
   "cell_type": "code",
   "execution_count": 553,
   "metadata": {},
   "outputs": [],
   "source": [
    "df['data'] = np.where(df['data']=='Dat Promul', np.nan, df['data'])"
   ]
  },
  {
   "cell_type": "code",
   "execution_count": 555,
   "metadata": {},
   "outputs": [],
   "source": [
    "for col in df.columns:\n",
    "    df[col] = df[col].str.replace('\\r','')"
   ]
  },
  {
   "cell_type": "code",
   "execution_count": 557,
   "metadata": {},
   "outputs": [],
   "source": [
    "# df.to_excel('ldo_3.xlsx', encoding='utf-8', index=False)"
   ]
  },
  {
   "cell_type": "code",
   "execution_count": null,
   "metadata": {},
   "outputs": [],
   "source": []
  },
  {
   "cell_type": "code",
   "execution_count": null,
   "metadata": {},
   "outputs": [],
   "source": []
  },
  {
   "cell_type": "code",
   "execution_count": null,
   "metadata": {},
   "outputs": [],
   "source": []
  },
  {
   "cell_type": "code",
   "execution_count": null,
   "metadata": {},
   "outputs": [],
   "source": []
  },
  {
   "cell_type": "code",
   "execution_count": null,
   "metadata": {},
   "outputs": [],
   "source": []
  },
  {
   "cell_type": "code",
   "execution_count": null,
   "metadata": {},
   "outputs": [],
   "source": []
  },
  {
   "cell_type": "code",
   "execution_count": null,
   "metadata": {},
   "outputs": [],
   "source": []
  },
  {
   "cell_type": "code",
   "execution_count": null,
   "metadata": {},
   "outputs": [],
   "source": []
  },
  {
   "cell_type": "code",
   "execution_count": null,
   "metadata": {},
   "outputs": [],
   "source": []
  },
  {
   "cell_type": "code",
   "execution_count": null,
   "metadata": {},
   "outputs": [],
   "source": []
  },
  {
   "cell_type": "code",
   "execution_count": null,
   "metadata": {},
   "outputs": [],
   "source": []
  },
  {
   "cell_type": "code",
   "execution_count": null,
   "metadata": {},
   "outputs": [],
   "source": []
  },
  {
   "cell_type": "code",
   "execution_count": null,
   "metadata": {},
   "outputs": [],
   "source": []
  },
  {
   "cell_type": "code",
   "execution_count": null,
   "metadata": {},
   "outputs": [],
   "source": []
  },
  {
   "cell_type": "code",
   "execution_count": null,
   "metadata": {},
   "outputs": [],
   "source": []
  },
  {
   "cell_type": "code",
   "execution_count": null,
   "metadata": {},
   "outputs": [],
   "source": []
  },
  {
   "cell_type": "code",
   "execution_count": null,
   "metadata": {},
   "outputs": [],
   "source": []
  },
  {
   "cell_type": "code",
   "execution_count": null,
   "metadata": {},
   "outputs": [],
   "source": []
  },
  {
   "cell_type": "code",
   "execution_count": null,
   "metadata": {},
   "outputs": [],
   "source": []
  },
  {
   "cell_type": "code",
   "execution_count": null,
   "metadata": {},
   "outputs": [],
   "source": []
  }
 ],
 "metadata": {
  "kernelspec": {
   "display_name": "Python 3",
   "language": "python",
   "name": "python3"
  },
  "language_info": {
   "codemirror_mode": {
    "name": "ipython",
    "version": 3
   },
   "file_extension": ".py",
   "mimetype": "text/x-python",
   "name": "python",
   "nbconvert_exporter": "python",
   "pygments_lexer": "ipython3",
   "version": "3.7.4"
  }
 },
 "nbformat": 4,
 "nbformat_minor": 2
}
