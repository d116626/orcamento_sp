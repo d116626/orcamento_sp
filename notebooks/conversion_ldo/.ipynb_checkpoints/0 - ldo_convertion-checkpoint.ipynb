{
 "cells": [
  {
   "cell_type": "code",
   "execution_count": 74,
   "metadata": {},
   "outputs": [],
   "source": [
    "import warnings\n",
    "warnings.filterwarnings('ignore')\n",
    "\n",
    "import os\n",
    "import sys\n",
    "sys.path.insert(0, '../')\n",
    "sys.path.insert(0,\"../../scripts/\")\n",
    "\n",
    "import numpy as np\n",
    "\n",
    "import pandas as pd\n",
    "pd.set_option('display.max_rows', 999)\n",
    "\n",
    "# import textract\n",
    "\n",
    "from tabula import read_pdf\n",
    "import camelot\n",
    "\n",
    "%reload_ext autoreload\n",
    "%autoreload 2\n",
    "\n",
    "\n",
    "\n",
    "# from scripts import manipulate"
   ]
  },
  {
   "cell_type": "code",
   "execution_count": 239,
   "metadata": {},
   "outputs": [],
   "source": [
    "dd = read_pdf('../../files/ldo/ldo_2021.pdf', pages='121-268' ,multiple_tables=True, encoding='utf-8', lattice=False)"
   ]
  },
  {
   "cell_type": "code",
   "execution_count": 292,
   "metadata": {},
   "outputs": [],
   "source": [
    "df = pd.DataFrame()\n",
    "\n",
    "for i in range(len(dd)):\n",
    "    if len(dd[i].columns)>2:\n",
    "        print(i)\n",
    "        dd[i] = dd[i][dd[i].columns[:2]]\n",
    "    dd[i].columns = [0,1]\n",
    "    df = pd.concat([df,dd[i]], axis=0)\n",
    "    \n",
    "df = df.reset_index(drop=True)\n",
    "\n",
    "mask = (df[1].fillna('').str.contains(r'\\b\\d', regex=True)) & (~df[1].fillna('').str.contains(r'META', regex=True))\n",
    "df[1] = np.where(mask,df[1],np.nan)\n",
    "mask = (df[1].fillna('').str.contains(r'\\b\\d\\d\\d\\d', regex=True))\n",
    "df[0] = np.where(mask,df[0] +'\\n' +df[1] ,df[0])\n",
    "df[1] = np.where(mask,np.nan,df[1])"
   ]
  },
  {
   "cell_type": "code",
   "execution_count": 293,
   "metadata": {},
   "outputs": [],
   "source": [
    "# def re_filter(value):  \n",
    "#     return re.findall(_filter, value)\n",
    "def generate_col(df,_filter):\n",
    "    mask = df[0].fillna('').str.contains(_filter,regex=True, case=True)\n",
    "    return df[mask][0]\n",
    "\n",
    "def fill_col(df, _filter):\n",
    "    mask = df['root'].fillna('').str.contains(_filter,regex=True, case=True)\n",
    "    return np.where(mask, df[0],np.nan)"
   ]
  },
  {
   "cell_type": "code",
   "execution_count": 294,
   "metadata": {},
   "outputs": [],
   "source": [
    "df[\"programa\"] = generate_col(df, r\"\\bPrograma:\\n\")\n",
    "df[\"orgao\"] = generate_col(df, r\"\\bÓrgão:\\n\")\n",
    "df[\"indicador_programa\"] = generate_col(df, r\"\\bINDICADORES DE RESULTADO DE PROGRAMA\")\n",
    "df[\"produto\"] = generate_col(df, r\"\\bPRODUTO: \")\n",
    "df[\"indicador_produto\"] = generate_col(df, r\"\\bINDICADOR DE PRODUTO\")\n",
    "df[\"acao\"] = generate_col(df, r\"\\bAÇÃO\\b\")\n",
    "\n",
    "df[\"root\"] = (\n",
    "    df[\"programa\"].fillna(\"\")\n",
    "    + df[\"orgao\"].fillna(\"\")\n",
    "    + df[\"indicador_programa\"].fillna(\"\")\n",
    "    + df[\"produto\"].fillna(\"\")\n",
    "    + df[\"indicador_produto\"].fillna(\"\")\n",
    "    + df[\"acao\"].fillna(\"\")\n",
    ")\n",
    "df[\"root\"] = np.where(df[\"root\"] == \"\", np.nan, df[\"root\"])\n",
    "df[\"root\"] = df[\"root\"].fillna(method=\"ffill\")\n",
    "\n",
    "df[\"programa\"] = fill_col(df, r\"\\bPrograma:\\n\")\n",
    "df[\"orgao\"] = fill_col(df, r\"\\bÓrgão:\\n\")\n",
    "df[\"indicador_programa\"] = fill_col(df, r\"\\bINDICADORES DE RESULTADO DE PROGRAMA\")\n",
    "df[\"produto\"] = fill_col(df, r\"\\bPRODUTO: \")\n",
    "df[\"indicador_produto\"] = fill_col(df, r\"\\bINDICADOR DE PRODUTO\")\n",
    "df[\"acao\"] = fill_col(df, r\"\\bAÇÃO\\b\")\n",
    "df[\"acao\"] = df[\n",
    "    df[\"acao\"].fillna(\"\").str.contains(r\"\\b\\d\\d\\d\\d -\", regex=True, case=True)\n",
    "][\"acao\"]\n",
    "\n",
    "\n",
    "\n",
    "\n",
    "finalidade_progama_mask = (\n",
    "    df[\"programa\"].fillna(\"\").str.contains(r\"\\bPrograma:\\n\", regex=True, case=True)\n",
    ")\n",
    "df[\"finialidade_programa\"] = df[~finalidade_progama_mask][\"programa\"]\n",
    "df[\"programa\"] = np.where(finalidade_progama_mask, df[\"programa\"], np.nan)\n",
    "\n",
    "finalidade_produto_mask = (\n",
    "    df[\"produto\"].fillna(\"\").str.contains(r\"\\bPRODUTO: \", regex=True, case=True)\n",
    ")\n",
    "df[\"finialidade_produto\"] = df[~finalidade_produto_mask][\"produto\"]\n",
    "df[\"produto\"] = np.where(finalidade_produto_mask, df[\"produto\"], np.nan)\n",
    "\n",
    "\n",
    "for col in df.columns[2:]:\n",
    "    if col != \"acao\":\n",
    "        df[col] = df[col].fillna(method=\"ffill\")\n",
    "    else:\n",
    "        df[col] = df[col].fillna(method=\"bfill\")\n",
    "\n",
    "\n",
    "value_programa_mask = (\n",
    "    df[\"root\"]\n",
    "    .fillna(\"\")\n",
    "    .str.contains(r\"\\bINDICADORES DE RESULTADO DE PROGRAMA\", regex=True, case=True)\n",
    ")\n",
    "df[\"value_indicador_programa\"] = np.where(value_programa_mask, df[1], np.nan)\n",
    "df[\"value_indicador_programa\"] = (\n",
    "    df[\"value_indicador_programa\"].str.replace(\".\", \"\").str.replace(\",\", \".\")\n",
    ")\n",
    "df[\"value_indicador_programa\"] = pd.to_numeric(df[\"value_indicador_programa\"], errors=\"coerce\")\n"
   ]
  },
  {
   "cell_type": "code",
   "execution_count": 295,
   "metadata": {},
   "outputs": [],
   "source": [
    "\n",
    "\n",
    "value_produto_mask = (\n",
    "    df[\"root\"].fillna(\"\").str.contains(r\"\\bINDICADOR DE PRODUTO\", regex=True, case=True)\n",
    ")\n",
    "df[\"value_indicador_produto\"] = np.where(value_produto_mask, df[1], np.nan)\n",
    "df[\"value_indicador_produto\"] = (\n",
    "    df[\"value_indicador_produto\"].str.replace(\".\", \"\").str.replace(\",\", \".\")\n",
    ")\n",
    "df[\"value_indicador_produto\"] = pd.to_numeric(df[\"value_indicador_produto\"], errors=\"coerce\")\n",
    "\n",
    "\n",
    "df_programa = df[df[\"value_indicador_programa\"].notnull()]\n",
    "cols = [\n",
    "    \"programa\",\n",
    "    \"orgao\",\n",
    "    \"indicador_programa\",\n",
    "    \"finialidade_programa\",\n",
    "    \"value_indicador_programa\",\n",
    "]\n",
    "df_programa = df_programa[cols]\n",
    "df_programa['programa'] = df_programa['programa'].str.replace('Programa:\\n','')\n",
    "df_programa['orgao'] = df_programa['orgao'].str.replace('Órgão:\\n','')\n",
    "for col in df_programa.columns[:-1]:\n",
    "    df_programa[col] = df_programa[col].str.upper().str.replace('\\r','')\n",
    "\n",
    "    \n",
    "    \n",
    "cols = [\n",
    "    \"programa\",\n",
    "    \"orgao\",\n",
    "    \"finialidade_programa\",\n",
    "    \"produto\",\n",
    "    \"finialidade_produto\",\n",
    "    \"indicador_produto\",\n",
    "    \"acao\",\n",
    "    \"value_indicador_produto\",\n",
    "]\n",
    "df_produto = df[df[\"value_indicador_produto\"].notnull()]\n",
    "df_produto = df_produto[cols]\n",
    "\n",
    "df_produto['programa'] = df_produto['programa'].str.replace('Programa:\\n','')\n",
    "df_produto['orgao'] = df_produto['orgao'].str.replace('Órgão:\\n','')\n",
    "for col in df_produto.columns[:-1]:\n",
    "    df_produto[col] = df_produto[col].str.upper().str.replace('\\r','')"
   ]
  },
  {
   "cell_type": "code",
   "execution_count": 296,
   "metadata": {},
   "outputs": [],
   "source": [
    "df_programa.to_csv('../../data/ldo/ldo_2021_programa.csv', index=False)\n",
    "df_produto.to_csv('../../data/ldo/ldo_2021_produto.csv', index=False)"
   ]
  },
  {
   "cell_type": "code",
   "execution_count": null,
   "metadata": {},
   "outputs": [],
   "source": []
  },
  {
   "cell_type": "code",
   "execution_count": null,
   "metadata": {},
   "outputs": [],
   "source": []
  },
  {
   "cell_type": "code",
   "execution_count": null,
   "metadata": {},
   "outputs": [],
   "source": []
  },
  {
   "cell_type": "code",
   "execution_count": null,
   "metadata": {},
   "outputs": [],
   "source": []
  },
  {
   "cell_type": "code",
   "execution_count": null,
   "metadata": {},
   "outputs": [],
   "source": []
  },
  {
   "cell_type": "code",
   "execution_count": null,
   "metadata": {},
   "outputs": [],
   "source": []
  },
  {
   "cell_type": "code",
   "execution_count": null,
   "metadata": {},
   "outputs": [],
   "source": []
  },
  {
   "cell_type": "code",
   "execution_count": null,
   "metadata": {},
   "outputs": [],
   "source": []
  },
  {
   "cell_type": "code",
   "execution_count": null,
   "metadata": {},
   "outputs": [],
   "source": []
  },
  {
   "cell_type": "code",
   "execution_count": null,
   "metadata": {},
   "outputs": [],
   "source": []
  },
  {
   "cell_type": "code",
   "execution_count": null,
   "metadata": {},
   "outputs": [],
   "source": []
  },
  {
   "cell_type": "code",
   "execution_count": null,
   "metadata": {},
   "outputs": [],
   "source": []
  },
  {
   "cell_type": "code",
   "execution_count": null,
   "metadata": {},
   "outputs": [],
   "source": []
  },
  {
   "cell_type": "code",
   "execution_count": null,
   "metadata": {},
   "outputs": [],
   "source": []
  },
  {
   "cell_type": "code",
   "execution_count": null,
   "metadata": {},
   "outputs": [],
   "source": []
  },
  {
   "cell_type": "code",
   "execution_count": null,
   "metadata": {},
   "outputs": [],
   "source": []
  },
  {
   "cell_type": "code",
   "execution_count": null,
   "metadata": {},
   "outputs": [],
   "source": []
  },
  {
   "cell_type": "code",
   "execution_count": null,
   "metadata": {},
   "outputs": [],
   "source": []
  },
  {
   "cell_type": "code",
   "execution_count": null,
   "metadata": {},
   "outputs": [],
   "source": []
  },
  {
   "cell_type": "code",
   "execution_count": null,
   "metadata": {},
   "outputs": [],
   "source": []
  },
  {
   "cell_type": "code",
   "execution_count": null,
   "metadata": {},
   "outputs": [],
   "source": []
  },
  {
   "cell_type": "code",
   "execution_count": null,
   "metadata": {},
   "outputs": [],
   "source": []
  },
  {
   "cell_type": "code",
   "execution_count": null,
   "metadata": {},
   "outputs": [],
   "source": []
  },
  {
   "cell_type": "code",
   "execution_count": null,
   "metadata": {},
   "outputs": [],
   "source": []
  },
  {
   "cell_type": "code",
   "execution_count": null,
   "metadata": {},
   "outputs": [],
   "source": []
  }
 ],
 "metadata": {
  "kernelspec": {
   "display_name": "Python 3",
   "language": "python",
   "name": "python3"
  },
  "language_info": {
   "codemirror_mode": {
    "name": "ipython",
    "version": 3
   },
   "file_extension": ".py",
   "mimetype": "text/x-python",
   "name": "python",
   "nbconvert_exporter": "python",
   "pygments_lexer": "ipython3",
   "version": "3.8.5"
  }
 },
 "nbformat": 4,
 "nbformat_minor": 4
}
