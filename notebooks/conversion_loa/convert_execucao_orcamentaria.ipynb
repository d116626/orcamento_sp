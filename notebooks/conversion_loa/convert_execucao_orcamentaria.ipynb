{
 "cells": [
  {
   "cell_type": "code",
   "execution_count": 60,
   "metadata": {},
   "outputs": [],
   "source": [
    "%reload_ext autoreload\n",
    "%autoreload 2\n",
    "\n",
    "import warnings\n",
    "warnings.filterwarnings('ignore')\n",
    "\n",
    "import pandas as pd\n",
    "import numpy as np\n",
    "\n",
    "from paths import *\n",
    "from scripts import io\n",
    "from scripts import manipulate\n",
    "\n",
    "import datetime\n",
    "\n",
    "\n",
    "pd.options.display.max_columns = 999\n",
    "pd.options.display.max_rows = 1999\n",
    "pd.options.display.max_colwidth = 200\n",
    "\n",
    "import plotly.express as px\n",
    "from plotly.offline import download_plotlyjs, init_notebook_mode, plot, iplot, offline\n",
    "import plotly.graph_objs as go\n"
   ]
  },
  {
   "cell_type": "markdown",
   "metadata": {},
   "source": [
    "## Data\n",
    " - https://www.sigeo.fazenda.sp.gov.br/analytics/saw.dll?Dashboard"
   ]
  },
  {
   "cell_type": "code",
   "execution_count": 16,
   "metadata": {},
   "outputs": [],
   "source": [
    "df = io.read_sheets('test_pd')"
   ]
  },
  {
   "cell_type": "code",
   "execution_count": 53,
   "metadata": {},
   "outputs": [],
   "source": [
    "df_final = pd.DataFrame()\n",
    "for col in df.columns.tolist()[2:]:\n",
    "\n",
    "    df_aux = df[['programa','ano',col]].rename(columns={col:'empenhado'})\n",
    "    df_aux['mes'] = col\n",
    "    \n",
    "    df_final = pd.concat([df_final,df_aux],0)"
   ]
  },
  {
   "cell_type": "code",
   "execution_count": 54,
   "metadata": {},
   "outputs": [],
   "source": [
    "df_final['empenhado'] = df_final['empenhado'].str.replace(',','')\n",
    "df_final['empenhado'] = pd.to_numeric(df_final['empenhado'], errors='coerce')\n",
    "\n",
    "mask = df_final['empenhado'].notnull()\n",
    "df_final = df_final[mask]\n",
    "df_final['mes'] = df_final['mes'].astype(int)"
   ]
  },
  {
   "cell_type": "code",
   "execution_count": 55,
   "metadata": {},
   "outputs": [],
   "source": [
    "df_final =  df_final.sort_values(by=['programa','mes'])"
   ]
  },
  {
   "cell_type": "code",
   "execution_count": 56,
   "metadata": {},
   "outputs": [],
   "source": [
    "df_final.to_excel('../data/execucao_orcamentaria/empenhando_publicidade.xlsx', index=False)"
   ]
  },
  {
   "cell_type": "code",
   "execution_count": 69,
   "metadata": {},
   "outputs": [
    {
     "data": {
      "text/html": [
       "<div>\n",
       "<style scoped>\n",
       "    .dataframe tbody tr th:only-of-type {\n",
       "        vertical-align: middle;\n",
       "    }\n",
       "\n",
       "    .dataframe tbody tr th {\n",
       "        vertical-align: top;\n",
       "    }\n",
       "\n",
       "    .dataframe thead th {\n",
       "        text-align: right;\n",
       "    }\n",
       "</style>\n",
       "<table border=\"1\" class=\"dataframe\">\n",
       "  <thead>\n",
       "    <tr style=\"text-align: right;\">\n",
       "      <th></th>\n",
       "      <th></th>\n",
       "      <th>empenhado</th>\n",
       "      <th>mes</th>\n",
       "    </tr>\n",
       "    <tr>\n",
       "      <th>programa</th>\n",
       "      <th>ano</th>\n",
       "      <th></th>\n",
       "      <th></th>\n",
       "    </tr>\n",
       "  </thead>\n",
       "  <tbody>\n",
       "    <tr>\n",
       "      <th rowspan=\"2\" valign=\"top\">33903918 - PROPAGANDA/PUBLICIDADE</th>\n",
       "      <th>2019</th>\n",
       "      <td>4.208593e+07</td>\n",
       "      <td>78</td>\n",
       "    </tr>\n",
       "    <tr>\n",
       "      <th>2020</th>\n",
       "      <td>6.169922e+07</td>\n",
       "      <td>55</td>\n",
       "    </tr>\n",
       "    <tr>\n",
       "      <th rowspan=\"2\" valign=\"top\">33903926 - PUBLICIDADE LEGAL</th>\n",
       "      <th>2019</th>\n",
       "      <td>2.238195e+06</td>\n",
       "      <td>78</td>\n",
       "    </tr>\n",
       "    <tr>\n",
       "      <th>2020</th>\n",
       "      <td>2.751838e+06</td>\n",
       "      <td>55</td>\n",
       "    </tr>\n",
       "    <tr>\n",
       "      <th rowspan=\"2\" valign=\"top\">33903928 - SERVICOS DE PUBLICIDADE INSTITUCIONAL</th>\n",
       "      <th>2019</th>\n",
       "      <td>1.060830e+08</td>\n",
       "      <td>57</td>\n",
       "    </tr>\n",
       "    <tr>\n",
       "      <th>2020</th>\n",
       "      <td>6.162741e+07</td>\n",
       "      <td>43</td>\n",
       "    </tr>\n",
       "    <tr>\n",
       "      <th rowspan=\"2\" valign=\"top\">33903929 - SERVICOS DE PUBLICIDADE DE UTILIDADE PUBLICA</th>\n",
       "      <th>2019</th>\n",
       "      <td>5.254007e+07</td>\n",
       "      <td>56</td>\n",
       "    </tr>\n",
       "    <tr>\n",
       "      <th>2020</th>\n",
       "      <td>4.486258e+07</td>\n",
       "      <td>37</td>\n",
       "    </tr>\n",
       "  </tbody>\n",
       "</table>\n",
       "</div>"
      ],
      "text/plain": [
       "                                                                 empenhado  \\\n",
       "programa                                                ano                  \n",
       "33903918 - PROPAGANDA/PUBLICIDADE                       2019  4.208593e+07   \n",
       "                                                        2020  6.169922e+07   \n",
       "33903926 - PUBLICIDADE LEGAL                            2019  2.238195e+06   \n",
       "                                                        2020  2.751838e+06   \n",
       "33903928 - SERVICOS DE PUBLICIDADE INSTITUCIONAL        2019  1.060830e+08   \n",
       "                                                        2020  6.162741e+07   \n",
       "33903929 - SERVICOS DE PUBLICIDADE DE UTILIDADE PUBLICA 2019  5.254007e+07   \n",
       "                                                        2020  4.486258e+07   \n",
       "\n",
       "                                                              mes  \n",
       "programa                                                ano        \n",
       "33903918 - PROPAGANDA/PUBLICIDADE                       2019   78  \n",
       "                                                        2020   55  \n",
       "33903926 - PUBLICIDADE LEGAL                            2019   78  \n",
       "                                                        2020   55  \n",
       "33903928 - SERVICOS DE PUBLICIDADE INSTITUCIONAL        2019   57  \n",
       "                                                        2020   43  \n",
       "33903929 - SERVICOS DE PUBLICIDADE DE UTILIDADE PUBLICA 2019   56  \n",
       "                                                        2020   37  "
      ]
     },
     "execution_count": 69,
     "metadata": {},
     "output_type": "execute_result"
    }
   ],
   "source": [
    "df_final.groupby(by=['programa','ano']).sum()"
   ]
  },
  {
   "cell_type": "code",
   "execution_count": null,
   "metadata": {},
   "outputs": [],
   "source": []
  },
  {
   "cell_type": "code",
   "execution_count": null,
   "metadata": {},
   "outputs": [],
   "source": []
  },
  {
   "cell_type": "markdown",
   "metadata": {},
   "source": [
    "## Grafico"
   ]
  },
  {
   "cell_type": "code",
   "execution_count": 57,
   "metadata": {},
   "outputs": [],
   "source": [
    "df_final['programa_ano'] = df_final['programa'] + \" - \"+ df_final['ano'].astype(str)\n",
    "fig = px.line(df_final, x='mes',y='empenhado', color='programa_ano')"
   ]
  },
  {
   "cell_type": "code",
   "execution_count": 65,
   "metadata": {},
   "outputs": [],
   "source": [
    "fig = fig.update_layout(hovermode= 'x unified',legend = go.layout.Legend(orientation='v'), xaxis_title='valor empenhado', yaxis_title='mes', font = dict(size=22),height=720)\n",
    "plot(fig, filename=\"empenhando_publicidade_grafico.html\", auto_open=False)"
   ]
  },
  {
   "cell_type": "code",
   "execution_count": 66,
   "metadata": {},
   "outputs": [
    {
     "data": {
      "text/plain": [
       "'empenhando_publicidade_grafico.html'"
      ]
     },
     "execution_count": 66,
     "metadata": {},
     "output_type": "execute_result"
    }
   ],
   "source": []
  },
  {
   "cell_type": "code",
   "execution_count": null,
   "metadata": {},
   "outputs": [],
   "source": []
  },
  {
   "cell_type": "code",
   "execution_count": null,
   "metadata": {},
   "outputs": [],
   "source": []
  },
  {
   "cell_type": "code",
   "execution_count": null,
   "metadata": {},
   "outputs": [],
   "source": []
  },
  {
   "cell_type": "code",
   "execution_count": null,
   "metadata": {},
   "outputs": [],
   "source": []
  },
  {
   "cell_type": "code",
   "execution_count": null,
   "metadata": {},
   "outputs": [],
   "source": []
  }
 ],
 "metadata": {
  "kernelspec": {
   "display_name": "Python 3",
   "language": "python",
   "name": "python3"
  },
  "language_info": {
   "codemirror_mode": {
    "name": "ipython",
    "version": 3
   },
   "file_extension": ".py",
   "mimetype": "text/x-python",
   "name": "python",
   "nbconvert_exporter": "python",
   "pygments_lexer": "ipython3",
   "version": "3.7.6"
  }
 },
 "nbformat": 4,
 "nbformat_minor": 4
}
