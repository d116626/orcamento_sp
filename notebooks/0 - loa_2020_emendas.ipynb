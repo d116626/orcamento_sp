{
 "cells": [
  {
   "cell_type": "code",
   "execution_count": 1,
   "metadata": {},
   "outputs": [],
   "source": [
    "import pandas as pd\n",
    "import numpy as np\n",
    "\n",
    "\n",
    "pd.set_option('display.max_rows', 999)\n",
    "import warnings\n",
    "warnings.filterwarnings('ignore')\n",
    "\n",
    "from tabula import read_pdf\n",
    "import camelot"
   ]
  },
  {
   "cell_type": "markdown",
   "metadata": {},
   "source": [
    "### LOA 2020 EMENDAS SAUDE"
   ]
  },
  {
   "cell_type": "code",
   "execution_count": 2,
   "metadata": {},
   "outputs": [],
   "source": [
    "### test - '339-396'\n",
    "### full - '339-844'\n",
    "\n",
    "dd = camelot.read_pdf('../files/loa_2020_final.pdf', pages='22-63',kind='grid')"
   ]
  },
  {
   "cell_type": "code",
   "execution_count": 3,
   "metadata": {},
   "outputs": [],
   "source": [
    "df = pd.DataFrame()\n",
    "\n",
    "for i in range(len(dd)):\n",
    "    df = pd.concat([df,dd[i].df], axis=0)\n",
    "    \n",
    "df = df.reset_index(drop=True)"
   ]
  },
  {
   "cell_type": "code",
   "execution_count": 4,
   "metadata": {},
   "outputs": [],
   "source": [
    "df.columns = df.head(1).values.tolist()[0]\n",
    "\n",
    "mask = df['VALOR']!='VALOR'\n",
    "df = df[mask]\n",
    "df['VALOR'] = df['VALOR'].str.replace('.','')\n",
    "\n",
    "for col in df.columns[:-1]:\n",
    "    df[col] = df[col].str.replace('\\n',' ')\n",
    "    \n",
    "# df.to_excel(\"emendas_saude_2020.xlsx\", index=False)"
   ]
  },
  {
   "cell_type": "markdown",
   "metadata": {},
   "source": [
    "### Revival"
   ]
  },
  {
   "cell_type": "code",
   "execution_count": 28,
   "metadata": {},
   "outputs": [],
   "source": [
    "dd = pd.read_excel('emendas_saude_2020.xlsx')"
   ]
  },
  {
   "cell_type": "code",
   "execution_count": 29,
   "metadata": {},
   "outputs": [],
   "source": [
    "for col in df.columns[:-1]:\n",
    "    dd[col] = dd[col].str.replace('\\n',' ').str.strip()"
   ]
  },
  {
   "cell_type": "code",
   "execution_count": 30,
   "metadata": {},
   "outputs": [],
   "source": [
    "dd['VALOR'] = dd['VALOR'].astype(int) \n",
    "dd = dd.sort_values(by='VALOR')"
   ]
  },
  {
   "cell_type": "code",
   "execution_count": 32,
   "metadata": {},
   "outputs": [],
   "source": [
    "# dd.to_excel(\"emendas_saude_2020.xlsx\", index=False)"
   ]
  },
  {
   "cell_type": "code",
   "execution_count": null,
   "metadata": {},
   "outputs": [],
   "source": []
  },
  {
   "cell_type": "code",
   "execution_count": null,
   "metadata": {},
   "outputs": [],
   "source": []
  },
  {
   "cell_type": "code",
   "execution_count": null,
   "metadata": {},
   "outputs": [],
   "source": []
  },
  {
   "cell_type": "code",
   "execution_count": null,
   "metadata": {},
   "outputs": [],
   "source": []
  },
  {
   "cell_type": "markdown",
   "metadata": {},
   "source": [
    "### LOA 2020 EMENDAS DIVERSOS"
   ]
  },
  {
   "cell_type": "code",
   "execution_count": 39,
   "metadata": {},
   "outputs": [],
   "source": [
    "### test - '339-396'\n",
    "### full - '339-844'\n",
    "\n",
    "dd = camelot.read_pdf('../files/loa_2020_final.pdf', pages='65-118',kind='grid')"
   ]
  },
  {
   "cell_type": "code",
   "execution_count": 40,
   "metadata": {},
   "outputs": [],
   "source": [
    "df = pd.DataFrame()\n",
    "\n",
    "for i in range(len(dd)):\n",
    "    df = pd.concat([df,dd[i].df], axis=0)\n",
    "    \n",
    "df = df.reset_index(drop=True)"
   ]
  },
  {
   "cell_type": "code",
   "execution_count": 41,
   "metadata": {},
   "outputs": [],
   "source": [
    "df.columns = df.head(1).values.tolist()[0]\n",
    "\n",
    "mask = df['VALOR']!='VALOR'\n",
    "df = df[mask]\n",
    "df['VALOR'] = df['VALOR'].str.replace('.','')\n",
    "\n",
    "for col in df.columns[:-1]:\n",
    "    df[col] = df[col].str.replace('\\n',' ')\n",
    "    \n",
    "df.to_excel(\"emendas_diversas_2020.xlsx\", index=False)"
   ]
  },
  {
   "cell_type": "markdown",
   "metadata": {},
   "source": [
    "### Revival"
   ]
  },
  {
   "cell_type": "code",
   "execution_count": 42,
   "metadata": {},
   "outputs": [],
   "source": [
    "dd = pd.read_excel('emendas_diversas_2020.xlsx')"
   ]
  },
  {
   "cell_type": "code",
   "execution_count": 43,
   "metadata": {},
   "outputs": [],
   "source": [
    "for col in df.columns[:-1]:\n",
    "    dd[col] = dd[col].str.replace('\\n',' ').str.strip()"
   ]
  },
  {
   "cell_type": "code",
   "execution_count": 44,
   "metadata": {},
   "outputs": [],
   "source": [
    "dd['VALOR'] = dd['VALOR'].astype(int) \n",
    "dd = dd.sort_values(by='VALOR')"
   ]
  },
  {
   "cell_type": "code",
   "execution_count": 48,
   "metadata": {},
   "outputs": [],
   "source": [
    "df.to_excel(\"emendas_diversas_2020.xlsx\", index=False)"
   ]
  },
  {
   "cell_type": "code",
   "execution_count": null,
   "metadata": {},
   "outputs": [],
   "source": []
  },
  {
   "cell_type": "code",
   "execution_count": null,
   "metadata": {},
   "outputs": [],
   "source": []
  },
  {
   "cell_type": "markdown",
   "metadata": {},
   "source": [
    "### Merge"
   ]
  },
  {
   "cell_type": "code",
   "execution_count": 31,
   "metadata": {},
   "outputs": [],
   "source": [
    "saude = pd.read_excel('emendas_saude_2020.xlsx')\n",
    "outras = pd.read_excel('emendas_diversas_2020.xlsx')"
   ]
  },
  {
   "cell_type": "code",
   "execution_count": 32,
   "metadata": {},
   "outputs": [],
   "source": [
    "outras.columns = ['parlamentar','entidade','municipio','cnpj','orgao','objeto','valor']"
   ]
  },
  {
   "cell_type": "code",
   "execution_count": 33,
   "metadata": {},
   "outputs": [],
   "source": [
    "saude['orgao'] = 'SAÚDE'\n",
    "saude.columns = ['parlamentar','entidade','municipio','cnpj','objeto','valor','orgao']"
   ]
  },
  {
   "cell_type": "code",
   "execution_count": 36,
   "metadata": {},
   "outputs": [],
   "source": [
    "saude = saude[outras.columns]"
   ]
  },
  {
   "cell_type": "code",
   "execution_count": 40,
   "metadata": {},
   "outputs": [],
   "source": [
    "final = pd.concat([saude,outras], axis=0)"
   ]
  },
  {
   "cell_type": "code",
   "execution_count": 41,
   "metadata": {},
   "outputs": [],
   "source": [
    "final.to_excel('emendas_2020.xlsx', index=False)"
   ]
  },
  {
   "cell_type": "code",
   "execution_count": 51,
   "metadata": {},
   "outputs": [
    {
     "data": {
      "text/html": [
       "<div>\n",
       "<style scoped>\n",
       "    .dataframe tbody tr th:only-of-type {\n",
       "        vertical-align: middle;\n",
       "    }\n",
       "\n",
       "    .dataframe tbody tr th {\n",
       "        vertical-align: top;\n",
       "    }\n",
       "\n",
       "    .dataframe thead th {\n",
       "        text-align: right;\n",
       "    }\n",
       "</style>\n",
       "<table border=\"1\" class=\"dataframe\">\n",
       "  <thead>\n",
       "    <tr style=\"text-align: right;\">\n",
       "      <th></th>\n",
       "      <th>parlamentar</th>\n",
       "      <th>entidade</th>\n",
       "      <th>municipio</th>\n",
       "      <th>cnpj</th>\n",
       "      <th>orgao</th>\n",
       "      <th>objeto</th>\n",
       "      <th>valor</th>\n",
       "    </tr>\n",
       "  </thead>\n",
       "  <tbody>\n",
       "    <tr>\n",
       "      <th>0</th>\n",
       "      <td>MARINA HELOU</td>\n",
       "      <td>PREFEITURA MUNICIPAL DE BOTUCATU</td>\n",
       "      <td>Botucatu</td>\n",
       "      <td>46.634.101/0001-15</td>\n",
       "      <td>SAÚDE</td>\n",
       "      <td>CUSTEIO - CENTRO DE  APOIO PSICOSSOCIAL  INFAN...</td>\n",
       "      <td>50000.0</td>\n",
       "    </tr>\n",
       "    <tr>\n",
       "      <th>1</th>\n",
       "      <td>MARINA HELOU</td>\n",
       "      <td>PREFEITURA MUNICIPAL DE  FRANCISCO MORATO</td>\n",
       "      <td>Francisco Morato</td>\n",
       "      <td>46.523.072/0001-14</td>\n",
       "      <td>SAÚDE</td>\n",
       "      <td>AQUISIÇÃO DE VEÍCULO  PARA SAÚDE</td>\n",
       "      <td>50000.0</td>\n",
       "    </tr>\n",
       "    <tr>\n",
       "      <th>2</th>\n",
       "      <td>MARINA HELOU</td>\n",
       "      <td>PREFEITURA MUNICIPAL DE LENÇÓIS  PAULISTA</td>\n",
       "      <td>Lençóis Paulista</td>\n",
       "      <td>46.200.846/0001-76</td>\n",
       "      <td>SAÚDE</td>\n",
       "      <td>CUSTEIO - SEMANA DO  BEBÊ</td>\n",
       "      <td>50000.0</td>\n",
       "    </tr>\n",
       "    <tr>\n",
       "      <th>3</th>\n",
       "      <td>MARINA HELOU</td>\n",
       "      <td>SANTA CASA DE MISERICORDIA DE  MOGI DAS CRUZES</td>\n",
       "      <td>Mogi das Cruzes</td>\n",
       "      <td>52.543.766/0001-16</td>\n",
       "      <td>SAÚDE</td>\n",
       "      <td>REFORMA E MANUTENÇÃO</td>\n",
       "      <td>50000.0</td>\n",
       "    </tr>\n",
       "    <tr>\n",
       "      <th>4</th>\n",
       "      <td>CARLA MORANDO</td>\n",
       "      <td>PREFEITURA MUNICIPAL DE TUPI  PAULISTA</td>\n",
       "      <td>Tupi Paulista</td>\n",
       "      <td>46.465.126/0001-32</td>\n",
       "      <td>SAÚDE</td>\n",
       "      <td>Custeio.</td>\n",
       "      <td>50000.0</td>\n",
       "    </tr>\n",
       "  </tbody>\n",
       "</table>\n",
       "</div>"
      ],
      "text/plain": [
       "     parlamentar                                        entidade  \\\n",
       "0   MARINA HELOU                PREFEITURA MUNICIPAL DE BOTUCATU   \n",
       "1   MARINA HELOU       PREFEITURA MUNICIPAL DE  FRANCISCO MORATO   \n",
       "2   MARINA HELOU       PREFEITURA MUNICIPAL DE LENÇÓIS  PAULISTA   \n",
       "3   MARINA HELOU  SANTA CASA DE MISERICORDIA DE  MOGI DAS CRUZES   \n",
       "4  CARLA MORANDO          PREFEITURA MUNICIPAL DE TUPI  PAULISTA   \n",
       "\n",
       "          municipio                cnpj  orgao  \\\n",
       "0          Botucatu  46.634.101/0001-15  SAÚDE   \n",
       "1  Francisco Morato  46.523.072/0001-14  SAÚDE   \n",
       "2  Lençóis Paulista  46.200.846/0001-76  SAÚDE   \n",
       "3   Mogi das Cruzes  52.543.766/0001-16  SAÚDE   \n",
       "4     Tupi Paulista  46.465.126/0001-32  SAÚDE   \n",
       "\n",
       "                                              objeto    valor  \n",
       "0  CUSTEIO - CENTRO DE  APOIO PSICOSSOCIAL  INFAN...  50000.0  \n",
       "1                   AQUISIÇÃO DE VEÍCULO  PARA SAÚDE  50000.0  \n",
       "2                          CUSTEIO - SEMANA DO  BEBÊ  50000.0  \n",
       "3                               REFORMA E MANUTENÇÃO  50000.0  \n",
       "4                                           Custeio.  50000.0  "
      ]
     },
     "execution_count": 51,
     "metadata": {},
     "output_type": "execute_result"
    }
   ],
   "source": [
    "final.head()"
   ]
  },
  {
   "cell_type": "code",
   "execution_count": 52,
   "metadata": {},
   "outputs": [
    {
     "data": {
      "text/html": [
       "<div>\n",
       "<style scoped>\n",
       "    .dataframe tbody tr th:only-of-type {\n",
       "        vertical-align: middle;\n",
       "    }\n",
       "\n",
       "    .dataframe tbody tr th {\n",
       "        vertical-align: top;\n",
       "    }\n",
       "\n",
       "    .dataframe thead th {\n",
       "        text-align: right;\n",
       "    }\n",
       "</style>\n",
       "<table border=\"1\" class=\"dataframe\">\n",
       "  <thead>\n",
       "    <tr style=\"text-align: right;\">\n",
       "      <th></th>\n",
       "      <th>orgao</th>\n",
       "      <th>valor</th>\n",
       "    </tr>\n",
       "  </thead>\n",
       "  <tbody>\n",
       "    <tr>\n",
       "      <th>15</th>\n",
       "      <td>SAÚDE</td>\n",
       "      <td>242534612.0</td>\n",
       "    </tr>\n",
       "    <tr>\n",
       "      <th>5</th>\n",
       "      <td>DESENVOLVIMENTO  REGIONAL</td>\n",
       "      <td>108430000.0</td>\n",
       "    </tr>\n",
       "    <tr>\n",
       "      <th>6</th>\n",
       "      <td>DESENVOLVIMENTO  SOCIAL</td>\n",
       "      <td>47286260.0</td>\n",
       "    </tr>\n",
       "    <tr>\n",
       "      <th>8</th>\n",
       "      <td>EDUCAÇÃO</td>\n",
       "      <td>18955102.0</td>\n",
       "    </tr>\n",
       "    <tr>\n",
       "      <th>9</th>\n",
       "      <td>ESPORTES</td>\n",
       "      <td>13925000.0</td>\n",
       "    </tr>\n",
       "    <tr>\n",
       "      <th>16</th>\n",
       "      <td>SEGURANÇA  PÚBLICA</td>\n",
       "      <td>13364798.0</td>\n",
       "    </tr>\n",
       "    <tr>\n",
       "      <th>3</th>\n",
       "      <td>CULTURA E  ECONOMIA CRIATIVA</td>\n",
       "      <td>13355100.0</td>\n",
       "    </tr>\n",
       "    <tr>\n",
       "      <th>13</th>\n",
       "      <td>JUSTIÇA E  CIDADANIA</td>\n",
       "      <td>6420000.0</td>\n",
       "    </tr>\n",
       "    <tr>\n",
       "      <th>2</th>\n",
       "      <td>CASA MILITAR E  DEFESA CIVIL</td>\n",
       "      <td>4906000.0</td>\n",
       "    </tr>\n",
       "    <tr>\n",
       "      <th>12</th>\n",
       "      <td>INFRAESTRUTURA E  MEIO AMBIENTE</td>\n",
       "      <td>3792500.0</td>\n",
       "    </tr>\n",
       "    <tr>\n",
       "      <th>4</th>\n",
       "      <td>DESENVOLVIMENTO  ECONÔMICO</td>\n",
       "      <td>3390000.0</td>\n",
       "    </tr>\n",
       "    <tr>\n",
       "      <th>14</th>\n",
       "      <td>LOGÍSTICA E  TRANSPORTES</td>\n",
       "      <td>3370000.0</td>\n",
       "    </tr>\n",
       "    <tr>\n",
       "      <th>1</th>\n",
       "      <td>AGRICULTURA E  ABASTECIMENTO</td>\n",
       "      <td>2305000.0</td>\n",
       "    </tr>\n",
       "    <tr>\n",
       "      <th>11</th>\n",
       "      <td>HABITAÇÃO</td>\n",
       "      <td>1350000.0</td>\n",
       "    </tr>\n",
       "    <tr>\n",
       "      <th>17</th>\n",
       "      <td>TURISMO</td>\n",
       "      <td>800000.0</td>\n",
       "    </tr>\n",
       "    <tr>\n",
       "      <th>7</th>\n",
       "      <td>DIREITOS DA  PESSOA COM  DEFICIÊNCIA</td>\n",
       "      <td>400000.0</td>\n",
       "    </tr>\n",
       "    <tr>\n",
       "      <th>10</th>\n",
       "      <td>GOVERNO</td>\n",
       "      <td>350000.0</td>\n",
       "    </tr>\n",
       "    <tr>\n",
       "      <th>0</th>\n",
       "      <td>ADMINISTRAÇÃO  PENITENCIÁRIA</td>\n",
       "      <td>100000.0</td>\n",
       "    </tr>\n",
       "  </tbody>\n",
       "</table>\n",
       "</div>"
      ],
      "text/plain": [
       "                                   orgao        valor\n",
       "15                                 SAÚDE  242534612.0\n",
       "5              DESENVOLVIMENTO  REGIONAL  108430000.0\n",
       "6                DESENVOLVIMENTO  SOCIAL   47286260.0\n",
       "8                               EDUCAÇÃO   18955102.0\n",
       "9                               ESPORTES   13925000.0\n",
       "16                    SEGURANÇA  PÚBLICA   13364798.0\n",
       "3           CULTURA E  ECONOMIA CRIATIVA   13355100.0\n",
       "13                  JUSTIÇA E  CIDADANIA    6420000.0\n",
       "2           CASA MILITAR E  DEFESA CIVIL    4906000.0\n",
       "12       INFRAESTRUTURA E  MEIO AMBIENTE    3792500.0\n",
       "4             DESENVOLVIMENTO  ECONÔMICO    3390000.0\n",
       "14              LOGÍSTICA E  TRANSPORTES    3370000.0\n",
       "1           AGRICULTURA E  ABASTECIMENTO    2305000.0\n",
       "11                             HABITAÇÃO    1350000.0\n",
       "17                               TURISMO     800000.0\n",
       "7   DIREITOS DA  PESSOA COM  DEFICIÊNCIA     400000.0\n",
       "10                               GOVERNO     350000.0\n",
       "0           ADMINISTRAÇÃO  PENITENCIÁRIA     100000.0"
      ]
     },
     "execution_count": 52,
     "metadata": {},
     "output_type": "execute_result"
    }
   ],
   "source": [
    "final.groupby(by='orgao', as_index=False).sum().sort_values(by='valor', ascending=False)"
   ]
  },
  {
   "cell_type": "code",
   "execution_count": null,
   "metadata": {},
   "outputs": [],
   "source": []
  },
  {
   "cell_type": "code",
   "execution_count": null,
   "metadata": {},
   "outputs": [],
   "source": []
  },
  {
   "cell_type": "markdown",
   "metadata": {},
   "source": [
    "### TODAS EMENDAS"
   ]
  },
  {
   "cell_type": "code",
   "execution_count": 2,
   "metadata": {},
   "outputs": [],
   "source": [
    "df = pd.read_excel('emendas_2020.xlsx')"
   ]
  },
  {
   "cell_type": "code",
   "execution_count": 3,
   "metadata": {},
   "outputs": [
    {
     "data": {
      "text/html": [
       "<div>\n",
       "<style scoped>\n",
       "    .dataframe tbody tr th:only-of-type {\n",
       "        vertical-align: middle;\n",
       "    }\n",
       "\n",
       "    .dataframe tbody tr th {\n",
       "        vertical-align: top;\n",
       "    }\n",
       "\n",
       "    .dataframe thead th {\n",
       "        text-align: right;\n",
       "    }\n",
       "</style>\n",
       "<table border=\"1\" class=\"dataframe\">\n",
       "  <thead>\n",
       "    <tr style=\"text-align: right;\">\n",
       "      <th></th>\n",
       "      <th>parlamentar</th>\n",
       "      <th>entidade</th>\n",
       "      <th>municipio</th>\n",
       "      <th>cnpj</th>\n",
       "      <th>orgao</th>\n",
       "      <th>objeto</th>\n",
       "      <th>valor</th>\n",
       "    </tr>\n",
       "  </thead>\n",
       "  <tbody>\n",
       "    <tr>\n",
       "      <th>0</th>\n",
       "      <td>MARINA HELOU</td>\n",
       "      <td>PREFEITURA MUNICIPAL DE BOTUCATU</td>\n",
       "      <td>Botucatu</td>\n",
       "      <td>46.634.101/0001-15</td>\n",
       "      <td>SAÚDE</td>\n",
       "      <td>CUSTEIO - CENTRO DE  APOIO PSICOSSOCIAL  INFAN...</td>\n",
       "      <td>50000.0</td>\n",
       "    </tr>\n",
       "    <tr>\n",
       "      <th>1</th>\n",
       "      <td>MARINA HELOU</td>\n",
       "      <td>PREFEITURA MUNICIPAL DE  FRANCISCO MORATO</td>\n",
       "      <td>Francisco Morato</td>\n",
       "      <td>46.523.072/0001-14</td>\n",
       "      <td>SAÚDE</td>\n",
       "      <td>AQUISIÇÃO DE VEÍCULO  PARA SAÚDE</td>\n",
       "      <td>50000.0</td>\n",
       "    </tr>\n",
       "    <tr>\n",
       "      <th>2</th>\n",
       "      <td>MARINA HELOU</td>\n",
       "      <td>PREFEITURA MUNICIPAL DE LENÇÓIS  PAULISTA</td>\n",
       "      <td>Lençóis Paulista</td>\n",
       "      <td>46.200.846/0001-76</td>\n",
       "      <td>SAÚDE</td>\n",
       "      <td>CUSTEIO - SEMANA DO  BEBÊ</td>\n",
       "      <td>50000.0</td>\n",
       "    </tr>\n",
       "    <tr>\n",
       "      <th>3</th>\n",
       "      <td>MARINA HELOU</td>\n",
       "      <td>SANTA CASA DE MISERICORDIA DE  MOGI DAS CRUZES</td>\n",
       "      <td>Mogi das Cruzes</td>\n",
       "      <td>52.543.766/0001-16</td>\n",
       "      <td>SAÚDE</td>\n",
       "      <td>REFORMA E MANUTENÇÃO</td>\n",
       "      <td>50000.0</td>\n",
       "    </tr>\n",
       "    <tr>\n",
       "      <th>4</th>\n",
       "      <td>CARLA MORANDO</td>\n",
       "      <td>PREFEITURA MUNICIPAL DE TUPI  PAULISTA</td>\n",
       "      <td>Tupi Paulista</td>\n",
       "      <td>46.465.126/0001-32</td>\n",
       "      <td>SAÚDE</td>\n",
       "      <td>Custeio.</td>\n",
       "      <td>50000.0</td>\n",
       "    </tr>\n",
       "    <tr>\n",
       "      <th>...</th>\n",
       "      <td>...</td>\n",
       "      <td>...</td>\n",
       "      <td>...</td>\n",
       "      <td>...</td>\n",
       "      <td>...</td>\n",
       "      <td>...</td>\n",
       "      <td>...</td>\n",
       "    </tr>\n",
       "    <tr>\n",
       "      <th>3098</th>\n",
       "      <td>WELLINGTON MOURA</td>\n",
       "      <td>PREFEITURA MUNICIPAL DE ITAÍ</td>\n",
       "      <td>Itaí</td>\n",
       "      <td>46.634.200/0001-05</td>\n",
       "      <td>DESENVOLVIMENTO  REGIONAL</td>\n",
       "      <td>Aquisição de um  caminhão compactador  de lixo</td>\n",
       "      <td>300000.0</td>\n",
       "    </tr>\n",
       "    <tr>\n",
       "      <th>3099</th>\n",
       "      <td>WELLINGTON MOURA</td>\n",
       "      <td>Instituto Lírios do Vale Centro  Assistencial ...</td>\n",
       "      <td>São Paulo</td>\n",
       "      <td>12.986.195/0001-70</td>\n",
       "      <td>CULTURA E  ECONOMIA CRIATIVA</td>\n",
       "      <td>AQUISIÇÃO DE  EQUIPAMENTOS /  INSTRUMENTOS  MU...</td>\n",
       "      <td>100000.0</td>\n",
       "    </tr>\n",
       "    <tr>\n",
       "      <th>3100</th>\n",
       "      <td>WELLINGTON MOURA</td>\n",
       "      <td>PREFEITURA MUNICIPAL DE  PARIQUERA-AÇU</td>\n",
       "      <td>Pariquera-Açu</td>\n",
       "      <td>45.685.120/0001-08</td>\n",
       "      <td>DESENVOLVIMENTO  REGIONAL</td>\n",
       "      <td>Infraestrutura</td>\n",
       "      <td>800000.0</td>\n",
       "    </tr>\n",
       "    <tr>\n",
       "      <th>3101</th>\n",
       "      <td>WELLINGTON MOURA</td>\n",
       "      <td>PREFEITURA MUNICIPAL DE  CARAPICUÍBA</td>\n",
       "      <td>Carapicuíba</td>\n",
       "      <td>44.892.693/0001-40</td>\n",
       "      <td>DESENVOLVIMENTO  REGIONAL</td>\n",
       "      <td>Infraestrutura</td>\n",
       "      <td>630000.0</td>\n",
       "    </tr>\n",
       "    <tr>\n",
       "      <th>3102</th>\n",
       "      <td>WELLINGTON MOURA</td>\n",
       "      <td>PREFEITURA MUNICIPAL DE ILHA  COMPRIDA</td>\n",
       "      <td>Ilha Comprida</td>\n",
       "      <td>64.037.872/0001-07</td>\n",
       "      <td>DESENVOLVIMENTO  REGIONAL</td>\n",
       "      <td>Infraestrutura</td>\n",
       "      <td>300000.0</td>\n",
       "    </tr>\n",
       "  </tbody>\n",
       "</table>\n",
       "<p>3103 rows × 7 columns</p>\n",
       "</div>"
      ],
      "text/plain": [
       "           parlamentar                                           entidade  \\\n",
       "0         MARINA HELOU                   PREFEITURA MUNICIPAL DE BOTUCATU   \n",
       "1         MARINA HELOU          PREFEITURA MUNICIPAL DE  FRANCISCO MORATO   \n",
       "2         MARINA HELOU          PREFEITURA MUNICIPAL DE LENÇÓIS  PAULISTA   \n",
       "3         MARINA HELOU     SANTA CASA DE MISERICORDIA DE  MOGI DAS CRUZES   \n",
       "4        CARLA MORANDO             PREFEITURA MUNICIPAL DE TUPI  PAULISTA   \n",
       "...                ...                                                ...   \n",
       "3098  WELLINGTON MOURA                       PREFEITURA MUNICIPAL DE ITAÍ   \n",
       "3099  WELLINGTON MOURA  Instituto Lírios do Vale Centro  Assistencial ...   \n",
       "3100  WELLINGTON MOURA             PREFEITURA MUNICIPAL DE  PARIQUERA-AÇU   \n",
       "3101  WELLINGTON MOURA               PREFEITURA MUNICIPAL DE  CARAPICUÍBA   \n",
       "3102  WELLINGTON MOURA             PREFEITURA MUNICIPAL DE ILHA  COMPRIDA   \n",
       "\n",
       "             municipio                cnpj                         orgao  \\\n",
       "0             Botucatu  46.634.101/0001-15                         SAÚDE   \n",
       "1     Francisco Morato  46.523.072/0001-14                         SAÚDE   \n",
       "2     Lençóis Paulista  46.200.846/0001-76                         SAÚDE   \n",
       "3      Mogi das Cruzes  52.543.766/0001-16                         SAÚDE   \n",
       "4        Tupi Paulista  46.465.126/0001-32                         SAÚDE   \n",
       "...                ...                 ...                           ...   \n",
       "3098              Itaí  46.634.200/0001-05     DESENVOLVIMENTO  REGIONAL   \n",
       "3099         São Paulo  12.986.195/0001-70  CULTURA E  ECONOMIA CRIATIVA   \n",
       "3100     Pariquera-Açu  45.685.120/0001-08     DESENVOLVIMENTO  REGIONAL   \n",
       "3101       Carapicuíba  44.892.693/0001-40     DESENVOLVIMENTO  REGIONAL   \n",
       "3102     Ilha Comprida  64.037.872/0001-07     DESENVOLVIMENTO  REGIONAL   \n",
       "\n",
       "                                                 objeto     valor  \n",
       "0     CUSTEIO - CENTRO DE  APOIO PSICOSSOCIAL  INFAN...   50000.0  \n",
       "1                      AQUISIÇÃO DE VEÍCULO  PARA SAÚDE   50000.0  \n",
       "2                             CUSTEIO - SEMANA DO  BEBÊ   50000.0  \n",
       "3                                  REFORMA E MANUTENÇÃO   50000.0  \n",
       "4                                              Custeio.   50000.0  \n",
       "...                                                 ...       ...  \n",
       "3098     Aquisição de um  caminhão compactador  de lixo  300000.0  \n",
       "3099  AQUISIÇÃO DE  EQUIPAMENTOS /  INSTRUMENTOS  MU...  100000.0  \n",
       "3100                                     Infraestrutura  800000.0  \n",
       "3101                                     Infraestrutura  630000.0  \n",
       "3102                                     Infraestrutura  300000.0  \n",
       "\n",
       "[3103 rows x 7 columns]"
      ]
     },
     "execution_count": 3,
     "metadata": {},
     "output_type": "execute_result"
    }
   ],
   "source": [
    "df"
   ]
  },
  {
   "cell_type": "code",
   "execution_count": null,
   "metadata": {},
   "outputs": [],
   "source": []
  },
  {
   "cell_type": "code",
   "execution_count": null,
   "metadata": {},
   "outputs": [],
   "source": []
  },
  {
   "cell_type": "code",
   "execution_count": null,
   "metadata": {},
   "outputs": [],
   "source": []
  },
  {
   "cell_type": "code",
   "execution_count": null,
   "metadata": {},
   "outputs": [],
   "source": []
  },
  {
   "cell_type": "code",
   "execution_count": null,
   "metadata": {},
   "outputs": [],
   "source": []
  },
  {
   "cell_type": "code",
   "execution_count": null,
   "metadata": {},
   "outputs": [],
   "source": []
  },
  {
   "cell_type": "code",
   "execution_count": null,
   "metadata": {},
   "outputs": [],
   "source": []
  },
  {
   "cell_type": "code",
   "execution_count": null,
   "metadata": {},
   "outputs": [],
   "source": []
  }
 ],
 "metadata": {
  "kernelspec": {
   "display_name": "Python 3",
   "language": "python",
   "name": "python3"
  },
  "language_info": {
   "codemirror_mode": {
    "name": "ipython",
    "version": 3
   },
   "file_extension": ".py",
   "mimetype": "text/x-python",
   "name": "python",
   "nbconvert_exporter": "python",
   "pygments_lexer": "ipython3",
   "version": "3.7.4"
  }
 },
 "nbformat": 4,
 "nbformat_minor": 4
}
