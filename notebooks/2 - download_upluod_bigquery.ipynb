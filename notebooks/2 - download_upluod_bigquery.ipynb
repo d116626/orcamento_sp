{
 "cells": [
  {
   "cell_type": "code",
   "execution_count": 46,
   "metadata": {},
   "outputs": [],
   "source": [
    "%reload_ext autoreload\n",
    "%autoreload 2\n",
    "\n",
    "import warnings\n",
    "warnings.filterwarnings('ignore')\n",
    "\n",
    "import pandas as pd\n",
    "import numpy as np\n",
    "\n",
    "from paths import *\n",
    "from scripts import io\n",
    "from scripts import manipulate\n",
    "\n",
    "import datetime"
   ]
  },
  {
   "cell_type": "markdown",
   "metadata": {},
   "source": [
    "## Executado"
   ]
  },
  {
   "cell_type": "code",
   "execution_count": 56,
   "metadata": {},
   "outputs": [],
   "source": [
    "today = datetime.datetime.today().strftime(\"%Y-%m-%d\")\n"
   ]
  },
  {
   "cell_type": "code",
   "execution_count": 57,
   "metadata": {},
   "outputs": [
    {
     "name": "stderr",
     "output_type": "stream",
     "text": [
      "[WDM] - Driver [/home/m/.wdm/drivers/geckodriver/linux64/v0.29.0/geckodriver] found in cache\n"
     ]
    }
   ],
   "source": [
    "df = io.get_orcamento_executado()"
   ]
  },
  {
   "cell_type": "code",
   "execution_count": null,
   "metadata": {},
   "outputs": [],
   "source": []
  },
  {
   "cell_type": "code",
   "execution_count": null,
   "metadata": {},
   "outputs": [],
   "source": []
  },
  {
   "cell_type": "code",
   "execution_count": null,
   "metadata": {},
   "outputs": [],
   "source": [
    "/mnt/AEB0CCA7B0CC777D/Jlab/gabinete_sv/orcamento_sp/data/orcamento/2021/executado/gdvDespesasExcel.xls\n",
    "/mnt/AEB0CCA7B0CC777D/Jlab/gabinete_sv/orcamento_sp/data/orcamento/2021/executado/gdvDespesasExcel(1).xls"
   ]
  },
  {
   "cell_type": "code",
   "execution_count": 20,
   "metadata": {},
   "outputs": [],
   "source": [
    "import os\n",
    "import glob\n",
    "\n"
   ]
  },
  {
   "cell_type": "code",
   "execution_count": 21,
   "metadata": {},
   "outputs": [],
   "source": [
    "files_after = glob.glob(\"/mnt/AEB0CCA7B0CC777D/Jlab/gabinete_sv/orcamento_sp/data/orcamento/2021/executado/*\")"
   ]
  },
  {
   "cell_type": "code",
   "execution_count": 22,
   "metadata": {},
   "outputs": [
    {
     "data": {
      "text/plain": [
       "['/mnt/AEB0CCA7B0CC777D/Jlab/gabinete_sv/orcamento_sp/data/orcamento/2021/executado/gdvDespesasExcel.xls']"
      ]
     },
     "execution_count": 22,
     "metadata": {},
     "output_type": "execute_result"
    }
   ],
   "source": [
    "files_after"
   ]
  },
  {
   "cell_type": "code",
   "execution_count": 25,
   "metadata": {},
   "outputs": [
    {
     "data": {
      "text/plain": [
       "'/mnt/AEB0CCA7B0CC777D/Jlab/gabinete_sv/orcamento_sp/data/orcamento/2021/executado/gdvDespesasExcel.xls'"
      ]
     },
     "execution_count": 25,
     "metadata": {},
     "output_type": "execute_result"
    }
   ],
   "source": [
    "\n"
   ]
  },
  {
   "cell_type": "code",
   "execution_count": 28,
   "metadata": {},
   "outputs": [
    {
     "ename": "TypeError",
     "evalue": "read_excel() got an unexpected keyword argument 'encoding'",
     "output_type": "error",
     "traceback": [
      "\u001b[0;31m---------------------------------------------------------------------------\u001b[0m",
      "\u001b[0;31mTypeError\u001b[0m                                 Traceback (most recent call last)",
      "\u001b[0;32m<ipython-input-28-bf0d38ba6d1b>\u001b[0m in \u001b[0;36m<module>\u001b[0;34m\u001b[0m\n\u001b[0;32m----> 1\u001b[0;31m \u001b[0mdf\u001b[0m \u001b[0;34m=\u001b[0m \u001b[0mpd\u001b[0m\u001b[0;34m.\u001b[0m\u001b[0mread_excel\u001b[0m\u001b[0;34m(\u001b[0m\u001b[0mfiles_now\u001b[0m\u001b[0;34m[\u001b[0m\u001b[0;36m0\u001b[0m\u001b[0;34m]\u001b[0m\u001b[0;34m,\u001b[0m \u001b[0mencoding\u001b[0m\u001b[0;34m=\u001b[0m\u001b[0;34m\"windows-1254\"\u001b[0m\u001b[0;34m)\u001b[0m\u001b[0;34m\u001b[0m\u001b[0;34m\u001b[0m\u001b[0m\n\u001b[0m",
      "\u001b[0;32m~/.local/lib/python3.8/site-packages/pandas/util/_decorators.py\u001b[0m in \u001b[0;36mwrapper\u001b[0;34m(*args, **kwargs)\u001b[0m\n\u001b[1;32m    294\u001b[0m                 )\n\u001b[1;32m    295\u001b[0m                 \u001b[0mwarnings\u001b[0m\u001b[0;34m.\u001b[0m\u001b[0mwarn\u001b[0m\u001b[0;34m(\u001b[0m\u001b[0mmsg\u001b[0m\u001b[0;34m,\u001b[0m \u001b[0mFutureWarning\u001b[0m\u001b[0;34m,\u001b[0m \u001b[0mstacklevel\u001b[0m\u001b[0;34m=\u001b[0m\u001b[0mstacklevel\u001b[0m\u001b[0;34m)\u001b[0m\u001b[0;34m\u001b[0m\u001b[0;34m\u001b[0m\u001b[0m\n\u001b[0;32m--> 296\u001b[0;31m             \u001b[0;32mreturn\u001b[0m \u001b[0mfunc\u001b[0m\u001b[0;34m(\u001b[0m\u001b[0;34m*\u001b[0m\u001b[0margs\u001b[0m\u001b[0;34m,\u001b[0m \u001b[0;34m**\u001b[0m\u001b[0mkwargs\u001b[0m\u001b[0;34m)\u001b[0m\u001b[0;34m\u001b[0m\u001b[0;34m\u001b[0m\u001b[0m\n\u001b[0m\u001b[1;32m    297\u001b[0m \u001b[0;34m\u001b[0m\u001b[0m\n\u001b[1;32m    298\u001b[0m         \u001b[0;32mreturn\u001b[0m \u001b[0mwrapper\u001b[0m\u001b[0;34m\u001b[0m\u001b[0;34m\u001b[0m\u001b[0m\n",
      "\u001b[0;31mTypeError\u001b[0m: read_excel() got an unexpected keyword argument 'encoding'"
     ]
    }
   ],
   "source": [
    "df = pd.read_excel(files_now[0],         files_before = glob.glob(\"{path}/*\")\n",
    ")"
   ]
  },
  {
   "cell_type": "code",
   "execution_count": null,
   "metadata": {},
   "outputs": [],
   "source": []
  },
  {
   "cell_type": "code",
   "execution_count": 38,
   "metadata": {},
   "outputs": [],
   "source": [
    "\n"
   ]
  },
  {
   "cell_type": "code",
   "execution_count": null,
   "metadata": {},
   "outputs": [],
   "source": []
  },
  {
   "cell_type": "code",
   "execution_count": 32,
   "metadata": {},
   "outputs": [],
   "source": [
    "path = os.getcwd()\n",
    "\n"
   ]
  },
  {
   "cell_type": "code",
   "execution_count": 33,
   "metadata": {},
   "outputs": [
    {
     "data": {
      "text/plain": [
       "'/mnt/AEB0CCA7B0CC777D/Jlab/gabinete_sv/orcamento_sp/data/orcamento/2021'"
      ]
     },
     "execution_count": 33,
     "metadata": {},
     "output_type": "execute_result"
    }
   ],
   "source": [
    "year=2021\n"
   ]
  },
  {
   "cell_type": "code",
   "execution_count": null,
   "metadata": {},
   "outputs": [],
   "source": []
  },
  {
   "cell_type": "code",
   "execution_count": null,
   "metadata": {},
   "outputs": [],
   "source": []
  },
  {
   "cell_type": "code",
   "execution_count": null,
   "metadata": {},
   "outputs": [],
   "source": []
  },
  {
   "cell_type": "code",
   "execution_count": null,
   "metadata": {},
   "outputs": [],
   "source": []
  },
  {
   "cell_type": "code",
   "execution_count": 16,
   "metadata": {},
   "outputs": [],
   "source": [
    "df = pd.read_csv('../data/orcamento/2020/executado/last_data.csv')"
   ]
  },
  {
   "cell_type": "code",
   "execution_count": 17,
   "metadata": {},
   "outputs": [],
   "source": [
    "df['atual_por_inicial'] = df['dotacao_atual']/df['dotacao_inicial']\n",
    "df['pago_por_dotacao_atual'] = df['pago']/df['dotacao_atual']"
   ]
  },
  {
   "cell_type": "code",
   "execution_count": 18,
   "metadata": {},
   "outputs": [
    {
     "data": {
      "text/html": [
       "<div>\n",
       "<style scoped>\n",
       "    .dataframe tbody tr th:only-of-type {\n",
       "        vertical-align: middle;\n",
       "    }\n",
       "\n",
       "    .dataframe tbody tr th {\n",
       "        vertical-align: top;\n",
       "    }\n",
       "\n",
       "    .dataframe thead th {\n",
       "        text-align: right;\n",
       "    }\n",
       "</style>\n",
       "<table border=\"1\" class=\"dataframe\">\n",
       "  <thead>\n",
       "    <tr style=\"text-align: right;\">\n",
       "      <th></th>\n",
       "      <th>orgao</th>\n",
       "      <th>uo</th>\n",
       "      <th>unidade_gestora</th>\n",
       "      <th>fonte_de_recursos</th>\n",
       "      <th>funcao</th>\n",
       "      <th>sub_funcao</th>\n",
       "      <th>programa</th>\n",
       "      <th>acao</th>\n",
       "      <th>funcional_programatica</th>\n",
       "      <th>elemento</th>\n",
       "      <th>dotacao_inicial</th>\n",
       "      <th>dotacao_atual</th>\n",
       "      <th>empenhado</th>\n",
       "      <th>liquidado</th>\n",
       "      <th>pago</th>\n",
       "      <th>pago_restos</th>\n",
       "      <th>date</th>\n",
       "      <th>atual_por_inicial</th>\n",
       "      <th>pago_por_dotacao_atual</th>\n",
       "    </tr>\n",
       "  </thead>\n",
       "  <tbody>\n",
       "    <tr>\n",
       "      <th>0</th>\n",
       "      <td>01000 - ASSEMBLEIA LEGISLATIVA</td>\n",
       "      <td>01001 - ASSEMBLEIA LEGISLATIVA</td>\n",
       "      <td>010010 - ASSEMBLEIA LEGISLATIVA</td>\n",
       "      <td>001 - TESOURO-DOT.INICIAL E CRED.SUPLEMENTAR</td>\n",
       "      <td>01 - LEGISLATIVA</td>\n",
       "      <td>031 - ACAO LEGISLATIVA</td>\n",
       "      <td>0150 - PROCESSO LEGISLATIVO</td>\n",
       "      <td>12150000 - EXPANSAO E ADEQUACAO INSTALACOES PA...</td>\n",
       "      <td>01031015012150000 - EXPANSAO E ADEQUACAO INSTA...</td>\n",
       "      <td>339039 - OUTROS SERVICOS DE TERCEIROS-PESSOA J...</td>\n",
       "      <td>10.0</td>\n",
       "      <td>0.000000e+00</td>\n",
       "      <td>0.0</td>\n",
       "      <td>0.0</td>\n",
       "      <td>0.0</td>\n",
       "      <td>0.0</td>\n",
       "      <td>2020-09-03</td>\n",
       "      <td>0.000000</td>\n",
       "      <td>NaN</td>\n",
       "    </tr>\n",
       "    <tr>\n",
       "      <th>1</th>\n",
       "      <td>01000 - ASSEMBLEIA LEGISLATIVA</td>\n",
       "      <td>01001 - ASSEMBLEIA LEGISLATIVA</td>\n",
       "      <td>010010 - ASSEMBLEIA LEGISLATIVA</td>\n",
       "      <td>001 - TESOURO-DOT.INICIAL E CRED.SUPLEMENTAR</td>\n",
       "      <td>01 - LEGISLATIVA</td>\n",
       "      <td>031 - ACAO LEGISLATIVA</td>\n",
       "      <td>0150 - PROCESSO LEGISLATIVO</td>\n",
       "      <td>45080000 - DIVULGACAO DOS TRABALHOS LEGISLATIVOS</td>\n",
       "      <td>01031015045080000 - DIVULGACAO DOS TRABALHOS L...</td>\n",
       "      <td>339039 - OUTROS SERVICOS DE TERCEIROS-PESSOA J...</td>\n",
       "      <td>13141895.0</td>\n",
       "      <td>5.919050e+05</td>\n",
       "      <td>0.0</td>\n",
       "      <td>0.0</td>\n",
       "      <td>0.0</td>\n",
       "      <td>0.0</td>\n",
       "      <td>2020-09-03</td>\n",
       "      <td>0.045040</td>\n",
       "      <td>0.0</td>\n",
       "    </tr>\n",
       "    <tr>\n",
       "      <th>2</th>\n",
       "      <td>01000 - ASSEMBLEIA LEGISLATIVA</td>\n",
       "      <td>01001 - ASSEMBLEIA LEGISLATIVA</td>\n",
       "      <td>010010 - ASSEMBLEIA LEGISLATIVA</td>\n",
       "      <td>001 - TESOURO-DOT.INICIAL E CRED.SUPLEMENTAR</td>\n",
       "      <td>01 - LEGISLATIVA</td>\n",
       "      <td>031 - ACAO LEGISLATIVA</td>\n",
       "      <td>0150 - PROCESSO LEGISLATIVO</td>\n",
       "      <td>45080000 - DIVULGACAO DOS TRABALHOS LEGISLATIVOS</td>\n",
       "      <td>01031015045080000 - DIVULGACAO DOS TRABALHOS L...</td>\n",
       "      <td>339040 - SERVICOS DE TI E COMUNICACAO - PJ</td>\n",
       "      <td>4494536.0</td>\n",
       "      <td>0.000000e+00</td>\n",
       "      <td>0.0</td>\n",
       "      <td>0.0</td>\n",
       "      <td>0.0</td>\n",
       "      <td>0.0</td>\n",
       "      <td>2020-09-03</td>\n",
       "      <td>0.000000</td>\n",
       "      <td>NaN</td>\n",
       "    </tr>\n",
       "    <tr>\n",
       "      <th>3</th>\n",
       "      <td>01000 - ASSEMBLEIA LEGISLATIVA</td>\n",
       "      <td>01001 - ASSEMBLEIA LEGISLATIVA</td>\n",
       "      <td>010010 - ASSEMBLEIA LEGISLATIVA</td>\n",
       "      <td>001 - TESOURO-DOT.INICIAL E CRED.SUPLEMENTAR</td>\n",
       "      <td>01 - LEGISLATIVA</td>\n",
       "      <td>031 - ACAO LEGISLATIVA</td>\n",
       "      <td>0150 - PROCESSO LEGISLATIVO</td>\n",
       "      <td>48170000 - FUNCIONAMENTO DO PROCESSO LEGISLATIVO</td>\n",
       "      <td>01031015048170000 - FUNCIONAMENTO DO PROCESSO ...</td>\n",
       "      <td>319007 - CONTRIBUICAO ENTIDADES FECHADAS PREVI...</td>\n",
       "      <td>2294796.0</td>\n",
       "      <td>6.557988e+05</td>\n",
       "      <td>0.0</td>\n",
       "      <td>0.0</td>\n",
       "      <td>0.0</td>\n",
       "      <td>0.0</td>\n",
       "      <td>2020-09-03</td>\n",
       "      <td>0.285777</td>\n",
       "      <td>0.0</td>\n",
       "    </tr>\n",
       "    <tr>\n",
       "      <th>4</th>\n",
       "      <td>01000 - ASSEMBLEIA LEGISLATIVA</td>\n",
       "      <td>01001 - ASSEMBLEIA LEGISLATIVA</td>\n",
       "      <td>010010 - ASSEMBLEIA LEGISLATIVA</td>\n",
       "      <td>001 - TESOURO-DOT.INICIAL E CRED.SUPLEMENTAR</td>\n",
       "      <td>01 - LEGISLATIVA</td>\n",
       "      <td>031 - ACAO LEGISLATIVA</td>\n",
       "      <td>0150 - PROCESSO LEGISLATIVO</td>\n",
       "      <td>48170000 - FUNCIONAMENTO DO PROCESSO LEGISLATIVO</td>\n",
       "      <td>01031015048170000 - FUNCIONAMENTO DO PROCESSO ...</td>\n",
       "      <td>319011 - VENCIMENTOS E VANTAGENS FIXAS-PESSOAL...</td>\n",
       "      <td>641349217.0</td>\n",
       "      <td>2.857617e+08</td>\n",
       "      <td>0.0</td>\n",
       "      <td>0.0</td>\n",
       "      <td>0.0</td>\n",
       "      <td>0.0</td>\n",
       "      <td>2020-09-03</td>\n",
       "      <td>0.445563</td>\n",
       "      <td>0.0</td>\n",
       "    </tr>\n",
       "  </tbody>\n",
       "</table>\n",
       "</div>"
      ],
      "text/plain": [
       "                            orgao                              uo  \\\n",
       "0  01000 - ASSEMBLEIA LEGISLATIVA  01001 - ASSEMBLEIA LEGISLATIVA   \n",
       "1  01000 - ASSEMBLEIA LEGISLATIVA  01001 - ASSEMBLEIA LEGISLATIVA   \n",
       "2  01000 - ASSEMBLEIA LEGISLATIVA  01001 - ASSEMBLEIA LEGISLATIVA   \n",
       "3  01000 - ASSEMBLEIA LEGISLATIVA  01001 - ASSEMBLEIA LEGISLATIVA   \n",
       "4  01000 - ASSEMBLEIA LEGISLATIVA  01001 - ASSEMBLEIA LEGISLATIVA   \n",
       "\n",
       "                   unidade_gestora  \\\n",
       "0  010010 - ASSEMBLEIA LEGISLATIVA   \n",
       "1  010010 - ASSEMBLEIA LEGISLATIVA   \n",
       "2  010010 - ASSEMBLEIA LEGISLATIVA   \n",
       "3  010010 - ASSEMBLEIA LEGISLATIVA   \n",
       "4  010010 - ASSEMBLEIA LEGISLATIVA   \n",
       "\n",
       "                              fonte_de_recursos            funcao  \\\n",
       "0  001 - TESOURO-DOT.INICIAL E CRED.SUPLEMENTAR  01 - LEGISLATIVA   \n",
       "1  001 - TESOURO-DOT.INICIAL E CRED.SUPLEMENTAR  01 - LEGISLATIVA   \n",
       "2  001 - TESOURO-DOT.INICIAL E CRED.SUPLEMENTAR  01 - LEGISLATIVA   \n",
       "3  001 - TESOURO-DOT.INICIAL E CRED.SUPLEMENTAR  01 - LEGISLATIVA   \n",
       "4  001 - TESOURO-DOT.INICIAL E CRED.SUPLEMENTAR  01 - LEGISLATIVA   \n",
       "\n",
       "               sub_funcao                     programa  \\\n",
       "0  031 - ACAO LEGISLATIVA  0150 - PROCESSO LEGISLATIVO   \n",
       "1  031 - ACAO LEGISLATIVA  0150 - PROCESSO LEGISLATIVO   \n",
       "2  031 - ACAO LEGISLATIVA  0150 - PROCESSO LEGISLATIVO   \n",
       "3  031 - ACAO LEGISLATIVA  0150 - PROCESSO LEGISLATIVO   \n",
       "4  031 - ACAO LEGISLATIVA  0150 - PROCESSO LEGISLATIVO   \n",
       "\n",
       "                                                acao  \\\n",
       "0  12150000 - EXPANSAO E ADEQUACAO INSTALACOES PA...   \n",
       "1   45080000 - DIVULGACAO DOS TRABALHOS LEGISLATIVOS   \n",
       "2   45080000 - DIVULGACAO DOS TRABALHOS LEGISLATIVOS   \n",
       "3   48170000 - FUNCIONAMENTO DO PROCESSO LEGISLATIVO   \n",
       "4   48170000 - FUNCIONAMENTO DO PROCESSO LEGISLATIVO   \n",
       "\n",
       "                              funcional_programatica  \\\n",
       "0  01031015012150000 - EXPANSAO E ADEQUACAO INSTA...   \n",
       "1  01031015045080000 - DIVULGACAO DOS TRABALHOS L...   \n",
       "2  01031015045080000 - DIVULGACAO DOS TRABALHOS L...   \n",
       "3  01031015048170000 - FUNCIONAMENTO DO PROCESSO ...   \n",
       "4  01031015048170000 - FUNCIONAMENTO DO PROCESSO ...   \n",
       "\n",
       "                                            elemento  dotacao_inicial  \\\n",
       "0  339039 - OUTROS SERVICOS DE TERCEIROS-PESSOA J...             10.0   \n",
       "1  339039 - OUTROS SERVICOS DE TERCEIROS-PESSOA J...       13141895.0   \n",
       "2         339040 - SERVICOS DE TI E COMUNICACAO - PJ        4494536.0   \n",
       "3  319007 - CONTRIBUICAO ENTIDADES FECHADAS PREVI...        2294796.0   \n",
       "4  319011 - VENCIMENTOS E VANTAGENS FIXAS-PESSOAL...      641349217.0   \n",
       "\n",
       "   dotacao_atual  empenhado  liquidado  pago  pago_restos        date  \\\n",
       "0   0.000000e+00        0.0        0.0   0.0          0.0  2020-09-03   \n",
       "1   5.919050e+05        0.0        0.0   0.0          0.0  2020-09-03   \n",
       "2   0.000000e+00        0.0        0.0   0.0          0.0  2020-09-03   \n",
       "3   6.557988e+05        0.0        0.0   0.0          0.0  2020-09-03   \n",
       "4   2.857617e+08        0.0        0.0   0.0          0.0  2020-09-03   \n",
       "\n",
       "   atual_por_inicial  pago_por_dotacao_atual  \n",
       "0           0.000000                     NaN  \n",
       "1           0.045040                     0.0  \n",
       "2           0.000000                     NaN  \n",
       "3           0.285777                     0.0  \n",
       "4           0.445563                     0.0  "
      ]
     },
     "execution_count": 18,
     "metadata": {},
     "output_type": "execute_result"
    }
   ],
   "source": [
    "df.head()"
   ]
  },
  {
   "cell_type": "code",
   "execution_count": 19,
   "metadata": {},
   "outputs": [
    {
     "name": "stderr",
     "output_type": "stream",
     "text": [
      "1it [00:11, 11.99s/it]\n"
     ]
    }
   ],
   "source": [
    "io.to_gbq(df,'orcamento_2020','orcamento','gabinete-sv', if_exists='replace')"
   ]
  },
  {
   "cell_type": "code",
   "execution_count": null,
   "metadata": {},
   "outputs": [],
   "source": []
  },
  {
   "cell_type": "code",
   "execution_count": null,
   "metadata": {},
   "outputs": [],
   "source": []
  },
  {
   "cell_type": "markdown",
   "metadata": {},
   "source": [
    "## Receita"
   ]
  },
  {
   "cell_type": "code",
   "execution_count": 20,
   "metadata": {},
   "outputs": [
    {
     "name": "stderr",
     "output_type": "stream",
     "text": [
      "[WDM] - Driver [/home/m/.wdm/drivers/geckodriver/linux64/v0.27.0/geckodriver] found in cache\n"
     ]
    }
   ],
   "source": [
    "previsto = io.get_orcamento_receita('previsto')\n"
   ]
  },
  {
   "cell_type": "code",
   "execution_count": 21,
   "metadata": {},
   "outputs": [
    {
     "name": "stderr",
     "output_type": "stream",
     "text": [
      "[WDM] - Driver [/home/m/.wdm/drivers/geckodriver/linux64/v0.27.0/geckodriver] found in cache\n"
     ]
    }
   ],
   "source": [
    "arrecadado = io.get_orcamento_receita('arrecadado')\n"
   ]
  },
  {
   "cell_type": "code",
   "execution_count": 22,
   "metadata": {},
   "outputs": [
    {
     "name": "stderr",
     "output_type": "stream",
     "text": [
      "1it [00:04,  4.17s/it]\n",
      "1it [00:04,  4.14s/it]\n"
     ]
    }
   ],
   "source": [
    "io.to_gbq(previsto,'receita_previsto_2020','orcamento','gabinete-sv', if_exists='replace')\n",
    "io.to_gbq(arrecadado,'receita_arrecadado_2020','orcamento','gabinete-sv', if_exists='replace')"
   ]
  },
  {
   "cell_type": "code",
   "execution_count": 23,
   "metadata": {},
   "outputs": [
    {
     "data": {
      "text/plain": [
       "(1342, 7)"
      ]
     },
     "execution_count": 23,
     "metadata": {},
     "output_type": "execute_result"
    }
   ],
   "source": [
    "arrecadado.shape"
   ]
  },
  {
   "cell_type": "code",
   "execution_count": 24,
   "metadata": {},
   "outputs": [
    {
     "data": {
      "text/plain": [
       "(1807, 7)"
      ]
     },
     "execution_count": 24,
     "metadata": {},
     "output_type": "execute_result"
    }
   ],
   "source": [
    "previsto.shape"
   ]
  },
  {
   "cell_type": "code",
   "execution_count": 25,
   "metadata": {},
   "outputs": [],
   "source": [
    "previsto_x_arrecadado = pd.merge(arrecadado,previsto,on = ['orgao', 'gestao', 'unidade_gestora', 'fonte_de_recursos', 'receita','date'], how = 'outer')\n",
    "previsto_x_arrecadado['arrecadado_perc'] = previsto_x_arrecadado['arrecadado']/previsto_x_arrecadado['previsto_do_ano']"
   ]
  },
  {
   "cell_type": "code",
   "execution_count": 26,
   "metadata": {},
   "outputs": [
    {
     "name": "stderr",
     "output_type": "stream",
     "text": [
      "1it [00:04,  4.88s/it]\n"
     ]
    }
   ],
   "source": [
    "\n",
    "\n",
    "io.to_gbq(previsto_x_arrecadado,'receita_previsto_x_arrecadado_2020','orcamento','gabinete-sv', if_exists='replace')"
   ]
  },
  {
   "cell_type": "code",
   "execution_count": null,
   "metadata": {},
   "outputs": [],
   "source": []
  },
  {
   "cell_type": "code",
   "execution_count": null,
   "metadata": {},
   "outputs": [],
   "source": []
  },
  {
   "cell_type": "code",
   "execution_count": null,
   "metadata": {},
   "outputs": [],
   "source": []
  },
  {
   "cell_type": "code",
   "execution_count": null,
   "metadata": {},
   "outputs": [],
   "source": []
  },
  {
   "cell_type": "code",
   "execution_count": null,
   "metadata": {},
   "outputs": [],
   "source": []
  },
  {
   "cell_type": "code",
   "execution_count": null,
   "metadata": {},
   "outputs": [],
   "source": []
  },
  {
   "cell_type": "code",
   "execution_count": null,
   "metadata": {},
   "outputs": [],
   "source": []
  },
  {
   "cell_type": "code",
   "execution_count": null,
   "metadata": {},
   "outputs": [],
   "source": []
  },
  {
   "cell_type": "code",
   "execution_count": null,
   "metadata": {},
   "outputs": [],
   "source": []
  },
  {
   "cell_type": "code",
   "execution_count": null,
   "metadata": {},
   "outputs": [],
   "source": []
  }
 ],
 "metadata": {
  "kernelspec": {
   "display_name": "Python 3",
   "language": "python",
   "name": "python3"
  },
  "language_info": {
   "codemirror_mode": {
    "name": "ipython",
    "version": 3
   },
   "file_extension": ".py",
   "mimetype": "text/x-python",
   "name": "python",
   "nbconvert_exporter": "python",
   "pygments_lexer": "ipython3",
   "version": "3.8.3"
  }
 },
 "nbformat": 4,
 "nbformat_minor": 4
}
