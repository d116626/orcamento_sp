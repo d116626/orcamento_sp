{
 "cells": [
  {
   "cell_type": "code",
   "execution_count": 7,
   "metadata": {},
   "outputs": [],
   "source": [
    "%reload_ext autoreload\n",
    "%autoreload 2\n",
    "\n",
    "import warnings\n",
    "warnings.filterwarnings('ignore')\n",
    "\n",
    "import pandas as pd\n",
    "import numpy as np\n",
    "\n",
    "from paths import *\n",
    "from scripts import io\n",
    "from scripts import manipulate\n",
    "\n",
    "import datetime"
   ]
  },
  {
   "cell_type": "markdown",
   "metadata": {},
   "source": [
    "## Executado"
   ]
  },
  {
   "cell_type": "code",
   "execution_count": 11,
   "metadata": {},
   "outputs": [
    {
     "name": "stderr",
     "output_type": "stream",
     "text": [
      "[WDM] - Driver [/home/m/.wdm/drivers/geckodriver/linux64/v0.27.0/geckodriver] found in cache\n"
     ]
    }
   ],
   "source": [
    "df = io.get_orcamento_executado()"
   ]
  },
  {
   "cell_type": "code",
   "execution_count": 14,
   "metadata": {},
   "outputs": [
    {
     "name": "stdout",
     "output_type": "stream",
     "text": [
      "/mnt/AEB0CCA7B0CC777D/Jlab/gabinete_sv/orcamento_sp/notebooks\n"
     ]
    }
   ],
   "source": [
    "!pwd"
   ]
  },
  {
   "cell_type": "code",
   "execution_count": 16,
   "metadata": {},
   "outputs": [],
   "source": [
    "df = pd.read_csv('../data/orcamento/2020/executado/last_data.csv')"
   ]
  },
  {
   "cell_type": "code",
   "execution_count": 17,
   "metadata": {},
   "outputs": [],
   "source": [
    "df['atual_por_inicial'] = df['dotacao_atual']/df['dotacao_inicial']\n",
    "df['pago_por_dotacao_atual'] = df['pago']/df['dotacao_atual']"
   ]
  },
  {
   "cell_type": "code",
   "execution_count": 18,
   "metadata": {},
   "outputs": [
    {
     "data": {
      "text/html": [
       "<div>\n",
       "<style scoped>\n",
       "    .dataframe tbody tr th:only-of-type {\n",
       "        vertical-align: middle;\n",
       "    }\n",
       "\n",
       "    .dataframe tbody tr th {\n",
       "        vertical-align: top;\n",
       "    }\n",
       "\n",
       "    .dataframe thead th {\n",
       "        text-align: right;\n",
       "    }\n",
       "</style>\n",
       "<table border=\"1\" class=\"dataframe\">\n",
       "  <thead>\n",
       "    <tr style=\"text-align: right;\">\n",
       "      <th></th>\n",
       "      <th>orgao</th>\n",
       "      <th>uo</th>\n",
       "      <th>unidade_gestora</th>\n",
       "      <th>fonte_de_recursos</th>\n",
       "      <th>funcao</th>\n",
       "      <th>sub_funcao</th>\n",
       "      <th>programa</th>\n",
       "      <th>acao</th>\n",
       "      <th>funcional_programatica</th>\n",
       "      <th>elemento</th>\n",
       "      <th>dotacao_inicial</th>\n",
       "      <th>dotacao_atual</th>\n",
       "      <th>empenhado</th>\n",
       "      <th>liquidado</th>\n",
       "      <th>pago</th>\n",
       "      <th>pago_restos</th>\n",
       "      <th>date</th>\n",
       "      <th>atual_por_inicial</th>\n",
       "      <th>pago_por_dotacao_atual</th>\n",
       "    </tr>\n",
       "  </thead>\n",
       "  <tbody>\n",
       "    <tr>\n",
       "      <th>0</th>\n",
       "      <td>01000 - ASSEMBLEIA LEGISLATIVA</td>\n",
       "      <td>01001 - ASSEMBLEIA LEGISLATIVA</td>\n",
       "      <td>010010 - ASSEMBLEIA LEGISLATIVA</td>\n",
       "      <td>001 - TESOURO-DOT.INICIAL E CRED.SUPLEMENTAR</td>\n",
       "      <td>01 - LEGISLATIVA</td>\n",
       "      <td>031 - ACAO LEGISLATIVA</td>\n",
       "      <td>0150 - PROCESSO LEGISLATIVO</td>\n",
       "      <td>12150000 - EXPANSAO E ADEQUACAO INSTALACOES PA...</td>\n",
       "      <td>01031015012150000 - EXPANSAO E ADEQUACAO INSTA...</td>\n",
       "      <td>339039 - OUTROS SERVICOS DE TERCEIROS-PESSOA J...</td>\n",
       "      <td>10.0</td>\n",
       "      <td>0.000000e+00</td>\n",
       "      <td>0.0</td>\n",
       "      <td>0.0</td>\n",
       "      <td>0.0</td>\n",
       "      <td>0.0</td>\n",
       "      <td>2020-09-03</td>\n",
       "      <td>0.000000</td>\n",
       "      <td>NaN</td>\n",
       "    </tr>\n",
       "    <tr>\n",
       "      <th>1</th>\n",
       "      <td>01000 - ASSEMBLEIA LEGISLATIVA</td>\n",
       "      <td>01001 - ASSEMBLEIA LEGISLATIVA</td>\n",
       "      <td>010010 - ASSEMBLEIA LEGISLATIVA</td>\n",
       "      <td>001 - TESOURO-DOT.INICIAL E CRED.SUPLEMENTAR</td>\n",
       "      <td>01 - LEGISLATIVA</td>\n",
       "      <td>031 - ACAO LEGISLATIVA</td>\n",
       "      <td>0150 - PROCESSO LEGISLATIVO</td>\n",
       "      <td>45080000 - DIVULGACAO DOS TRABALHOS LEGISLATIVOS</td>\n",
       "      <td>01031015045080000 - DIVULGACAO DOS TRABALHOS L...</td>\n",
       "      <td>339039 - OUTROS SERVICOS DE TERCEIROS-PESSOA J...</td>\n",
       "      <td>13141895.0</td>\n",
       "      <td>5.919050e+05</td>\n",
       "      <td>0.0</td>\n",
       "      <td>0.0</td>\n",
       "      <td>0.0</td>\n",
       "      <td>0.0</td>\n",
       "      <td>2020-09-03</td>\n",
       "      <td>0.045040</td>\n",
       "      <td>0.0</td>\n",
       "    </tr>\n",
       "    <tr>\n",
       "      <th>2</th>\n",
       "      <td>01000 - ASSEMBLEIA LEGISLATIVA</td>\n",
       "      <td>01001 - ASSEMBLEIA LEGISLATIVA</td>\n",
       "      <td>010010 - ASSEMBLEIA LEGISLATIVA</td>\n",
       "      <td>001 - TESOURO-DOT.INICIAL E CRED.SUPLEMENTAR</td>\n",
       "      <td>01 - LEGISLATIVA</td>\n",
       "      <td>031 - ACAO LEGISLATIVA</td>\n",
       "      <td>0150 - PROCESSO LEGISLATIVO</td>\n",
       "      <td>45080000 - DIVULGACAO DOS TRABALHOS LEGISLATIVOS</td>\n",
       "      <td>01031015045080000 - DIVULGACAO DOS TRABALHOS L...</td>\n",
       "      <td>339040 - SERVICOS DE TI E COMUNICACAO - PJ</td>\n",
       "      <td>4494536.0</td>\n",
       "      <td>0.000000e+00</td>\n",
       "      <td>0.0</td>\n",
       "      <td>0.0</td>\n",
       "      <td>0.0</td>\n",
       "      <td>0.0</td>\n",
       "      <td>2020-09-03</td>\n",
       "      <td>0.000000</td>\n",
       "      <td>NaN</td>\n",
       "    </tr>\n",
       "    <tr>\n",
       "      <th>3</th>\n",
       "      <td>01000 - ASSEMBLEIA LEGISLATIVA</td>\n",
       "      <td>01001 - ASSEMBLEIA LEGISLATIVA</td>\n",
       "      <td>010010 - ASSEMBLEIA LEGISLATIVA</td>\n",
       "      <td>001 - TESOURO-DOT.INICIAL E CRED.SUPLEMENTAR</td>\n",
       "      <td>01 - LEGISLATIVA</td>\n",
       "      <td>031 - ACAO LEGISLATIVA</td>\n",
       "      <td>0150 - PROCESSO LEGISLATIVO</td>\n",
       "      <td>48170000 - FUNCIONAMENTO DO PROCESSO LEGISLATIVO</td>\n",
       "      <td>01031015048170000 - FUNCIONAMENTO DO PROCESSO ...</td>\n",
       "      <td>319007 - CONTRIBUICAO ENTIDADES FECHADAS PREVI...</td>\n",
       "      <td>2294796.0</td>\n",
       "      <td>6.557988e+05</td>\n",
       "      <td>0.0</td>\n",
       "      <td>0.0</td>\n",
       "      <td>0.0</td>\n",
       "      <td>0.0</td>\n",
       "      <td>2020-09-03</td>\n",
       "      <td>0.285777</td>\n",
       "      <td>0.0</td>\n",
       "    </tr>\n",
       "    <tr>\n",
       "      <th>4</th>\n",
       "      <td>01000 - ASSEMBLEIA LEGISLATIVA</td>\n",
       "      <td>01001 - ASSEMBLEIA LEGISLATIVA</td>\n",
       "      <td>010010 - ASSEMBLEIA LEGISLATIVA</td>\n",
       "      <td>001 - TESOURO-DOT.INICIAL E CRED.SUPLEMENTAR</td>\n",
       "      <td>01 - LEGISLATIVA</td>\n",
       "      <td>031 - ACAO LEGISLATIVA</td>\n",
       "      <td>0150 - PROCESSO LEGISLATIVO</td>\n",
       "      <td>48170000 - FUNCIONAMENTO DO PROCESSO LEGISLATIVO</td>\n",
       "      <td>01031015048170000 - FUNCIONAMENTO DO PROCESSO ...</td>\n",
       "      <td>319011 - VENCIMENTOS E VANTAGENS FIXAS-PESSOAL...</td>\n",
       "      <td>641349217.0</td>\n",
       "      <td>2.857617e+08</td>\n",
       "      <td>0.0</td>\n",
       "      <td>0.0</td>\n",
       "      <td>0.0</td>\n",
       "      <td>0.0</td>\n",
       "      <td>2020-09-03</td>\n",
       "      <td>0.445563</td>\n",
       "      <td>0.0</td>\n",
       "    </tr>\n",
       "  </tbody>\n",
       "</table>\n",
       "</div>"
      ],
      "text/plain": [
       "                            orgao                              uo  \\\n",
       "0  01000 - ASSEMBLEIA LEGISLATIVA  01001 - ASSEMBLEIA LEGISLATIVA   \n",
       "1  01000 - ASSEMBLEIA LEGISLATIVA  01001 - ASSEMBLEIA LEGISLATIVA   \n",
       "2  01000 - ASSEMBLEIA LEGISLATIVA  01001 - ASSEMBLEIA LEGISLATIVA   \n",
       "3  01000 - ASSEMBLEIA LEGISLATIVA  01001 - ASSEMBLEIA LEGISLATIVA   \n",
       "4  01000 - ASSEMBLEIA LEGISLATIVA  01001 - ASSEMBLEIA LEGISLATIVA   \n",
       "\n",
       "                   unidade_gestora  \\\n",
       "0  010010 - ASSEMBLEIA LEGISLATIVA   \n",
       "1  010010 - ASSEMBLEIA LEGISLATIVA   \n",
       "2  010010 - ASSEMBLEIA LEGISLATIVA   \n",
       "3  010010 - ASSEMBLEIA LEGISLATIVA   \n",
       "4  010010 - ASSEMBLEIA LEGISLATIVA   \n",
       "\n",
       "                              fonte_de_recursos            funcao  \\\n",
       "0  001 - TESOURO-DOT.INICIAL E CRED.SUPLEMENTAR  01 - LEGISLATIVA   \n",
       "1  001 - TESOURO-DOT.INICIAL E CRED.SUPLEMENTAR  01 - LEGISLATIVA   \n",
       "2  001 - TESOURO-DOT.INICIAL E CRED.SUPLEMENTAR  01 - LEGISLATIVA   \n",
       "3  001 - TESOURO-DOT.INICIAL E CRED.SUPLEMENTAR  01 - LEGISLATIVA   \n",
       "4  001 - TESOURO-DOT.INICIAL E CRED.SUPLEMENTAR  01 - LEGISLATIVA   \n",
       "\n",
       "               sub_funcao                     programa  \\\n",
       "0  031 - ACAO LEGISLATIVA  0150 - PROCESSO LEGISLATIVO   \n",
       "1  031 - ACAO LEGISLATIVA  0150 - PROCESSO LEGISLATIVO   \n",
       "2  031 - ACAO LEGISLATIVA  0150 - PROCESSO LEGISLATIVO   \n",
       "3  031 - ACAO LEGISLATIVA  0150 - PROCESSO LEGISLATIVO   \n",
       "4  031 - ACAO LEGISLATIVA  0150 - PROCESSO LEGISLATIVO   \n",
       "\n",
       "                                                acao  \\\n",
       "0  12150000 - EXPANSAO E ADEQUACAO INSTALACOES PA...   \n",
       "1   45080000 - DIVULGACAO DOS TRABALHOS LEGISLATIVOS   \n",
       "2   45080000 - DIVULGACAO DOS TRABALHOS LEGISLATIVOS   \n",
       "3   48170000 - FUNCIONAMENTO DO PROCESSO LEGISLATIVO   \n",
       "4   48170000 - FUNCIONAMENTO DO PROCESSO LEGISLATIVO   \n",
       "\n",
       "                              funcional_programatica  \\\n",
       "0  01031015012150000 - EXPANSAO E ADEQUACAO INSTA...   \n",
       "1  01031015045080000 - DIVULGACAO DOS TRABALHOS L...   \n",
       "2  01031015045080000 - DIVULGACAO DOS TRABALHOS L...   \n",
       "3  01031015048170000 - FUNCIONAMENTO DO PROCESSO ...   \n",
       "4  01031015048170000 - FUNCIONAMENTO DO PROCESSO ...   \n",
       "\n",
       "                                            elemento  dotacao_inicial  \\\n",
       "0  339039 - OUTROS SERVICOS DE TERCEIROS-PESSOA J...             10.0   \n",
       "1  339039 - OUTROS SERVICOS DE TERCEIROS-PESSOA J...       13141895.0   \n",
       "2         339040 - SERVICOS DE TI E COMUNICACAO - PJ        4494536.0   \n",
       "3  319007 - CONTRIBUICAO ENTIDADES FECHADAS PREVI...        2294796.0   \n",
       "4  319011 - VENCIMENTOS E VANTAGENS FIXAS-PESSOAL...      641349217.0   \n",
       "\n",
       "   dotacao_atual  empenhado  liquidado  pago  pago_restos        date  \\\n",
       "0   0.000000e+00        0.0        0.0   0.0          0.0  2020-09-03   \n",
       "1   5.919050e+05        0.0        0.0   0.0          0.0  2020-09-03   \n",
       "2   0.000000e+00        0.0        0.0   0.0          0.0  2020-09-03   \n",
       "3   6.557988e+05        0.0        0.0   0.0          0.0  2020-09-03   \n",
       "4   2.857617e+08        0.0        0.0   0.0          0.0  2020-09-03   \n",
       "\n",
       "   atual_por_inicial  pago_por_dotacao_atual  \n",
       "0           0.000000                     NaN  \n",
       "1           0.045040                     0.0  \n",
       "2           0.000000                     NaN  \n",
       "3           0.285777                     0.0  \n",
       "4           0.445563                     0.0  "
      ]
     },
     "execution_count": 18,
     "metadata": {},
     "output_type": "execute_result"
    }
   ],
   "source": [
    "df.head()"
   ]
  },
  {
   "cell_type": "code",
   "execution_count": 19,
   "metadata": {},
   "outputs": [
    {
     "name": "stderr",
     "output_type": "stream",
     "text": [
      "1it [00:11, 11.99s/it]\n"
     ]
    }
   ],
   "source": [
    "io.to_gbq(df,'orcamento_2020','orcamento','gabinete-sv', if_exists='replace')"
   ]
  },
  {
   "cell_type": "code",
   "execution_count": null,
   "metadata": {},
   "outputs": [],
   "source": []
  },
  {
   "cell_type": "code",
   "execution_count": null,
   "metadata": {},
   "outputs": [],
   "source": []
  },
  {
   "cell_type": "markdown",
   "metadata": {},
   "source": [
    "## Receita"
   ]
  },
  {
   "cell_type": "code",
   "execution_count": 20,
   "metadata": {},
   "outputs": [
    {
     "name": "stderr",
     "output_type": "stream",
     "text": [
      "[WDM] - Driver [/home/m/.wdm/drivers/geckodriver/linux64/v0.27.0/geckodriver] found in cache\n"
     ]
    }
   ],
   "source": [
    "previsto = io.get_orcamento_receita('previsto')\n"
   ]
  },
  {
   "cell_type": "code",
   "execution_count": null,
   "metadata": {},
   "outputs": [
    {
     "name": "stderr",
     "output_type": "stream",
     "text": [
      "[WDM] - Driver [/home/m/.wdm/drivers/geckodriver/linux64/v0.27.0/geckodriver] found in cache\n"
     ]
    }
   ],
   "source": [
    "arrecadado = io.get_orcamento_receita('arrecadado')\n"
   ]
  },
  {
   "cell_type": "code",
   "execution_count": null,
   "metadata": {},
   "outputs": [],
   "source": [
    "io.to_gbq(previsto,'receita_previsto_2020','orcamento','gabinete-sv', if_exists='replace')\n",
    "io.to_gbq(arrecadado,'receita_arrecadado_2020','orcamento','gabinete-sv', if_exists='replace')"
   ]
  },
  {
   "cell_type": "code",
   "execution_count": null,
   "metadata": {},
   "outputs": [],
   "source": [
    "arrecadado.shape"
   ]
  },
  {
   "cell_type": "code",
   "execution_count": null,
   "metadata": {},
   "outputs": [],
   "source": [
    "previsto.shape"
   ]
  },
  {
   "cell_type": "code",
   "execution_count": null,
   "metadata": {},
   "outputs": [],
   "source": [
    "previsto_x_arrecadado = pd.merge(arrecadado,previsto,on = ['orgao', 'gestao', 'unidade_gestora', 'fonte_de_recursos', 'receita','date'], how = 'outer')\n",
    "previsto_x_arrecadado['arrecadado_perc'] = previsto_x_arrecadado['arrecadado']/previsto_x_arrecadado['previsto_do_ano']"
   ]
  },
  {
   "cell_type": "code",
   "execution_count": null,
   "metadata": {},
   "outputs": [],
   "source": [
    "\n",
    "\n",
    "io.to_gbq(previsto_x_arrecadado,'receita_previsto_x_arrecadado_2020','orcamento','gabinete-sv', if_exists='replace')"
   ]
  },
  {
   "cell_type": "code",
   "execution_count": null,
   "metadata": {},
   "outputs": [],
   "source": []
  },
  {
   "cell_type": "code",
   "execution_count": null,
   "metadata": {},
   "outputs": [],
   "source": []
  },
  {
   "cell_type": "code",
   "execution_count": null,
   "metadata": {},
   "outputs": [],
   "source": []
  },
  {
   "cell_type": "code",
   "execution_count": null,
   "metadata": {},
   "outputs": [],
   "source": []
  },
  {
   "cell_type": "code",
   "execution_count": null,
   "metadata": {},
   "outputs": [],
   "source": []
  },
  {
   "cell_type": "code",
   "execution_count": null,
   "metadata": {},
   "outputs": [],
   "source": []
  },
  {
   "cell_type": "code",
   "execution_count": null,
   "metadata": {},
   "outputs": [],
   "source": []
  },
  {
   "cell_type": "code",
   "execution_count": null,
   "metadata": {},
   "outputs": [],
   "source": []
  },
  {
   "cell_type": "code",
   "execution_count": null,
   "metadata": {},
   "outputs": [],
   "source": []
  },
  {
   "cell_type": "code",
   "execution_count": null,
   "metadata": {},
   "outputs": [],
   "source": []
  }
 ],
 "metadata": {
  "kernelspec": {
   "display_name": "Python 3",
   "language": "python",
   "name": "python3"
  },
  "language_info": {
   "codemirror_mode": {
    "name": "ipython",
    "version": 3
   },
   "file_extension": ".py",
   "mimetype": "text/x-python",
   "name": "python",
   "nbconvert_exporter": "python",
   "pygments_lexer": "ipython3",
   "version": "3.7.6"
  }
 },
 "nbformat": 4,
 "nbformat_minor": 4
}
